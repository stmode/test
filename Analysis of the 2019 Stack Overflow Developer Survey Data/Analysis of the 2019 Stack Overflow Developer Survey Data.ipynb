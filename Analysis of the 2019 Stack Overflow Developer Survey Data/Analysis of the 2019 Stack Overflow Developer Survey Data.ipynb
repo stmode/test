{
 "cells": [
  {
   "cell_type": "markdown",
   "metadata": {
    "id": "GjCNq7mc0u5k"
   },
   "source": [
    "# Developer Technology Usage, Trends, and Demographics\n"
   ]
  },
  {
   "cell_type": "markdown",
   "metadata": {
    "id": "vYKvKCJV-oc4"
   },
   "source": [
    "by **Young Hun Ji**\n",
    "\n",
    "May 3, 2021"
   ]
  },
  {
   "cell_type": "markdown",
   "metadata": {
    "id": "dXb2XgF45V4-"
   },
   "source": [
    "*Note: This notebook is based on the capstone project submitted to Coursera in partial fulfillment of the requirements for the IBM DATA ANALYST PROFESSIONAL CERTIFICATE*"
   ]
  },
  {
   "cell_type": "markdown",
   "metadata": {},
   "source": [
    "![\"auto1\"](cover.png \"cover\")"
   ]
  },
  {
   "cell_type": "markdown",
   "metadata": {
    "id": "xkn0VM7L5duJ"
   },
   "source": [
    "## Overview\n",
    "I examined data collected as part of the **2019 Stack Overflow Annual Developer Survey**. In this analysis, a subset of the full 2019 dataset (approximately 10% of the original dataset; *N* = 11,398) was analyzed and visualized using *SQL*, *Python* and *IBM Cognos*. The findings yielded numerous insights into developer technology usage, trends, and demographics. \n",
    "\n",
    "These insights are particularly relevant to current and prospective developers aiming to remain competitive; businesses aiming to upskill their talent; educators in the field; and policy makers aiming to address gender, economic, and technological issues.  "
   ]
  },
  {
   "cell_type": "markdown",
   "metadata": {
    "id": "2c_lY2Kq9LeN"
   },
   "source": [
    "## Table of Contents\n",
    "\n",
    "<div class=\"alert alert-block alert-info\" style=\"margin-top: 20px\">\n",
    "\n",
    "<font size = 3>\n",
    "\n",
    "1.  <a href=\"#chapter1\">Introduction</a><br><br>\n",
    "2.  <a href=\"#chapter2\">Loading and Exploring the Dataset</a><br><br>\n",
    "3.  <a href=\"#chapter3\">Data Wrangling</a><br>\n",
    "     * 3.1 <a href=\"#chapter3.1\">Removing Duplicates</a><br>\n",
    "     * 3.2 <a href=\"#chapter3.2\">Missing Data Imputation</a><br>\n",
    "     * 3.3 <a href=\"#chapter3.3\">Standardization</a><br><br>\n",
    "4.  <a href=\"#chapter4\">Analysis and Visualizations I: Compensation, Gender, and Age</a><br>\n",
    "     * 4.1 <a href=\"#chapter4.1\">Distributional Properties</a><br>\n",
    "     * 4.2 <a href=\"#chapter4.2\">Outliers</a><br>\n",
    "     * 4.3 <a href=\"#chapter4.3\">Bivariate Correlations</a><br><br>\n",
    "5.  <a href=\"#chapter5\">Analysis and Visualizations II: Technology Usage and Trends, Work Hours, and More</a><br>\n",
    "     * 5.1 <a href=\"#chapter5.1\">*SQL* Queries to Extract Data</a><br>\n",
    "     * 5.2 <a href=\"#chapter5.2\">Visualizations</a><br>\n",
    "     * 5.3 <a href=\"#chapter5.3\">Dashboard Using *IBM Cognos*</a><br><br>\n",
    "6.  <a href=\"#chapter6\">Analysis and Visualizations III: Data from Sources Other than the Stack Overflow Developer Survey</a><br>\n",
    "     * 6.1 <a href=\"#chapter6.1\">Job Data Collected Using the *GitHub Jobs* API</a><br>\n",
    "     * 6.2 <a href=\"#chapter6.2\">Webscraping Popular Languages and Respective Salary Data</a><br><br>\n",
    "7.  <a href=\"#chapter7\">Findings and Implications</a>\n",
    "    </font>\n",
    "    </div>"
   ]
  },
  {
   "cell_type": "markdown",
   "metadata": {},
   "source": [
    "## 1. Introduction <a class=\"anchor\" id=\"chapter1\"></a>"
   ]
  },
  {
   "cell_type": "markdown",
   "metadata": {},
   "source": [
    "Since 2011, the online programming knowledge sharing platform, *Stack Overflow*, has been conducting the *Stack Overflow Annual Developer Survey*. The primary objective of the annual surveys is to gather data regarding technology usage and trends among developers. Link to Stack Overflow's annual developer surveys: [link to surveys](https://insights.stackoverflow.com/survey/)\n",
    "\n",
    "In this analysis, a subset of the 2019 dataset was examined (present dataset: N  = 11, 398; original dataset N ≈ 90,000). The key findings are summarized in the following *Cognos* dashboard: [link to dashboard](https://eu-gb.dataplatform.cloud.ibm.com/dashboards/171ae20c-d010-40b8-8837-c0da7850a86b/view/0509dd3d6e9437df42b4f2e407c87f052c662c0fb4bb8305d1d07b490e337197f06c1490c87e4f0f8f430c30a6be440ac9 \"Summary Dashboard\")\n",
    "\n",
    "*Target audience*: Developers (current and aspiring), HR professionals, educators, policy makers"
   ]
  },
  {
   "cell_type": "markdown",
   "metadata": {},
   "source": [
    "## 2. Loading the Dataset <a class=\"anchor\" id=\"chapter2\"></a>"
   ]
  },
  {
   "cell_type": "markdown",
   "metadata": {},
   "source": [
    "First, I loaded the dataset (i.e., subset of the *2019 Stack Overflow Annual Developer Survey*) using the URL provided by IBM:"
   ]
  },
  {
   "cell_type": "code",
   "execution_count": 1,
   "metadata": {},
   "outputs": [],
   "source": [
    "# Importing pandas\n",
    "import pandas as pd\n",
    "\n",
    "# Retrieving the dataset\n",
    "dataset_url = \"https://cf-courses-data.s3.us.cloud-object-storage.appdomain.cloud/IBM-DA0321EN-SkillsNetwork/LargeData/m1_survey_data.csv\""
   ]
  },
  {
   "cell_type": "markdown",
   "metadata": {},
   "source": [
    "Loading the data at dataset_url into a pandas dataframe:\n"
   ]
  },
  {
   "cell_type": "code",
   "execution_count": 2,
   "metadata": {},
   "outputs": [],
   "source": [
    "df = pd.read_csv(dataset_url)"
   ]
  },
  {
   "cell_type": "markdown",
   "metadata": {},
   "source": [
    "#### Exploring the data set\n"
   ]
  },
  {
   "cell_type": "markdown",
   "metadata": {},
   "source": [
    "Displaying the top 5 rows:\n"
   ]
  },
  {
   "cell_type": "code",
   "execution_count": 3,
   "metadata": {},
   "outputs": [
    {
     "data": {
      "text/html": [
       "<div>\n",
       "<style scoped>\n",
       "    .dataframe tbody tr th:only-of-type {\n",
       "        vertical-align: middle;\n",
       "    }\n",
       "\n",
       "    .dataframe tbody tr th {\n",
       "        vertical-align: top;\n",
       "    }\n",
       "\n",
       "    .dataframe thead th {\n",
       "        text-align: right;\n",
       "    }\n",
       "</style>\n",
       "<table border=\"1\" class=\"dataframe\">\n",
       "  <thead>\n",
       "    <tr style=\"text-align: right;\">\n",
       "      <th></th>\n",
       "      <th>Respondent</th>\n",
       "      <th>MainBranch</th>\n",
       "      <th>Hobbyist</th>\n",
       "      <th>OpenSourcer</th>\n",
       "      <th>OpenSource</th>\n",
       "      <th>Employment</th>\n",
       "      <th>Country</th>\n",
       "      <th>Student</th>\n",
       "      <th>EdLevel</th>\n",
       "      <th>UndergradMajor</th>\n",
       "      <th>...</th>\n",
       "      <th>WelcomeChange</th>\n",
       "      <th>SONewContent</th>\n",
       "      <th>Age</th>\n",
       "      <th>Gender</th>\n",
       "      <th>Trans</th>\n",
       "      <th>Sexuality</th>\n",
       "      <th>Ethnicity</th>\n",
       "      <th>Dependents</th>\n",
       "      <th>SurveyLength</th>\n",
       "      <th>SurveyEase</th>\n",
       "    </tr>\n",
       "  </thead>\n",
       "  <tbody>\n",
       "    <tr>\n",
       "      <th>0</th>\n",
       "      <td>4</td>\n",
       "      <td>I am a developer by profession</td>\n",
       "      <td>No</td>\n",
       "      <td>Never</td>\n",
       "      <td>The quality of OSS and closed source software ...</td>\n",
       "      <td>Employed full-time</td>\n",
       "      <td>United States</td>\n",
       "      <td>No</td>\n",
       "      <td>Bachelor’s degree (BA, BS, B.Eng., etc.)</td>\n",
       "      <td>Computer science, computer engineering, or sof...</td>\n",
       "      <td>...</td>\n",
       "      <td>Just as welcome now as I felt last year</td>\n",
       "      <td>Tech articles written by other developers;Indu...</td>\n",
       "      <td>22.0</td>\n",
       "      <td>Man</td>\n",
       "      <td>No</td>\n",
       "      <td>Straight / Heterosexual</td>\n",
       "      <td>White or of European descent</td>\n",
       "      <td>No</td>\n",
       "      <td>Appropriate in length</td>\n",
       "      <td>Easy</td>\n",
       "    </tr>\n",
       "    <tr>\n",
       "      <th>1</th>\n",
       "      <td>9</td>\n",
       "      <td>I am a developer by profession</td>\n",
       "      <td>Yes</td>\n",
       "      <td>Once a month or more often</td>\n",
       "      <td>The quality of OSS and closed source software ...</td>\n",
       "      <td>Employed full-time</td>\n",
       "      <td>New Zealand</td>\n",
       "      <td>No</td>\n",
       "      <td>Some college/university study without earning ...</td>\n",
       "      <td>Computer science, computer engineering, or sof...</td>\n",
       "      <td>...</td>\n",
       "      <td>Just as welcome now as I felt last year</td>\n",
       "      <td>NaN</td>\n",
       "      <td>23.0</td>\n",
       "      <td>Man</td>\n",
       "      <td>No</td>\n",
       "      <td>Bisexual</td>\n",
       "      <td>White or of European descent</td>\n",
       "      <td>No</td>\n",
       "      <td>Appropriate in length</td>\n",
       "      <td>Neither easy nor difficult</td>\n",
       "    </tr>\n",
       "    <tr>\n",
       "      <th>2</th>\n",
       "      <td>13</td>\n",
       "      <td>I am a developer by profession</td>\n",
       "      <td>Yes</td>\n",
       "      <td>Less than once a month but more than once per ...</td>\n",
       "      <td>OSS is, on average, of HIGHER quality than pro...</td>\n",
       "      <td>Employed full-time</td>\n",
       "      <td>United States</td>\n",
       "      <td>No</td>\n",
       "      <td>Master’s degree (MA, MS, M.Eng., MBA, etc.)</td>\n",
       "      <td>Computer science, computer engineering, or sof...</td>\n",
       "      <td>...</td>\n",
       "      <td>Somewhat more welcome now than last year</td>\n",
       "      <td>Tech articles written by other developers;Cour...</td>\n",
       "      <td>28.0</td>\n",
       "      <td>Man</td>\n",
       "      <td>No</td>\n",
       "      <td>Straight / Heterosexual</td>\n",
       "      <td>White or of European descent</td>\n",
       "      <td>Yes</td>\n",
       "      <td>Appropriate in length</td>\n",
       "      <td>Easy</td>\n",
       "    </tr>\n",
       "    <tr>\n",
       "      <th>3</th>\n",
       "      <td>16</td>\n",
       "      <td>I am a developer by profession</td>\n",
       "      <td>Yes</td>\n",
       "      <td>Never</td>\n",
       "      <td>The quality of OSS and closed source software ...</td>\n",
       "      <td>Employed full-time</td>\n",
       "      <td>United Kingdom</td>\n",
       "      <td>No</td>\n",
       "      <td>Master’s degree (MA, MS, M.Eng., MBA, etc.)</td>\n",
       "      <td>NaN</td>\n",
       "      <td>...</td>\n",
       "      <td>Just as welcome now as I felt last year</td>\n",
       "      <td>Tech articles written by other developers;Indu...</td>\n",
       "      <td>26.0</td>\n",
       "      <td>Man</td>\n",
       "      <td>No</td>\n",
       "      <td>Straight / Heterosexual</td>\n",
       "      <td>White or of European descent</td>\n",
       "      <td>No</td>\n",
       "      <td>Appropriate in length</td>\n",
       "      <td>Neither easy nor difficult</td>\n",
       "    </tr>\n",
       "    <tr>\n",
       "      <th>4</th>\n",
       "      <td>17</td>\n",
       "      <td>I am a developer by profession</td>\n",
       "      <td>Yes</td>\n",
       "      <td>Less than once a month but more than once per ...</td>\n",
       "      <td>The quality of OSS and closed source software ...</td>\n",
       "      <td>Employed full-time</td>\n",
       "      <td>Australia</td>\n",
       "      <td>No</td>\n",
       "      <td>Bachelor’s degree (BA, BS, B.Eng., etc.)</td>\n",
       "      <td>Computer science, computer engineering, or sof...</td>\n",
       "      <td>...</td>\n",
       "      <td>Just as welcome now as I felt last year</td>\n",
       "      <td>Tech articles written by other developers;Indu...</td>\n",
       "      <td>29.0</td>\n",
       "      <td>Man</td>\n",
       "      <td>No</td>\n",
       "      <td>Straight / Heterosexual</td>\n",
       "      <td>Hispanic or Latino/Latina;Multiracial</td>\n",
       "      <td>No</td>\n",
       "      <td>Appropriate in length</td>\n",
       "      <td>Easy</td>\n",
       "    </tr>\n",
       "  </tbody>\n",
       "</table>\n",
       "<p>5 rows × 85 columns</p>\n",
       "</div>"
      ],
      "text/plain": [
       "   Respondent                      MainBranch Hobbyist  \\\n",
       "0           4  I am a developer by profession       No   \n",
       "1           9  I am a developer by profession      Yes   \n",
       "2          13  I am a developer by profession      Yes   \n",
       "3          16  I am a developer by profession      Yes   \n",
       "4          17  I am a developer by profession      Yes   \n",
       "\n",
       "                                         OpenSourcer  \\\n",
       "0                                              Never   \n",
       "1                         Once a month or more often   \n",
       "2  Less than once a month but more than once per ...   \n",
       "3                                              Never   \n",
       "4  Less than once a month but more than once per ...   \n",
       "\n",
       "                                          OpenSource          Employment  \\\n",
       "0  The quality of OSS and closed source software ...  Employed full-time   \n",
       "1  The quality of OSS and closed source software ...  Employed full-time   \n",
       "2  OSS is, on average, of HIGHER quality than pro...  Employed full-time   \n",
       "3  The quality of OSS and closed source software ...  Employed full-time   \n",
       "4  The quality of OSS and closed source software ...  Employed full-time   \n",
       "\n",
       "          Country Student                                            EdLevel  \\\n",
       "0   United States      No           Bachelor’s degree (BA, BS, B.Eng., etc.)   \n",
       "1     New Zealand      No  Some college/university study without earning ...   \n",
       "2   United States      No        Master’s degree (MA, MS, M.Eng., MBA, etc.)   \n",
       "3  United Kingdom      No        Master’s degree (MA, MS, M.Eng., MBA, etc.)   \n",
       "4       Australia      No           Bachelor’s degree (BA, BS, B.Eng., etc.)   \n",
       "\n",
       "                                      UndergradMajor  ...  \\\n",
       "0  Computer science, computer engineering, or sof...  ...   \n",
       "1  Computer science, computer engineering, or sof...  ...   \n",
       "2  Computer science, computer engineering, or sof...  ...   \n",
       "3                                                NaN  ...   \n",
       "4  Computer science, computer engineering, or sof...  ...   \n",
       "\n",
       "                              WelcomeChange  \\\n",
       "0   Just as welcome now as I felt last year   \n",
       "1   Just as welcome now as I felt last year   \n",
       "2  Somewhat more welcome now than last year   \n",
       "3   Just as welcome now as I felt last year   \n",
       "4   Just as welcome now as I felt last year   \n",
       "\n",
       "                                        SONewContent   Age Gender Trans  \\\n",
       "0  Tech articles written by other developers;Indu...  22.0    Man    No   \n",
       "1                                                NaN  23.0    Man    No   \n",
       "2  Tech articles written by other developers;Cour...  28.0    Man    No   \n",
       "3  Tech articles written by other developers;Indu...  26.0    Man    No   \n",
       "4  Tech articles written by other developers;Indu...  29.0    Man    No   \n",
       "\n",
       "                 Sexuality                              Ethnicity Dependents  \\\n",
       "0  Straight / Heterosexual           White or of European descent         No   \n",
       "1                 Bisexual           White or of European descent         No   \n",
       "2  Straight / Heterosexual           White or of European descent        Yes   \n",
       "3  Straight / Heterosexual           White or of European descent         No   \n",
       "4  Straight / Heterosexual  Hispanic or Latino/Latina;Multiracial         No   \n",
       "\n",
       "            SurveyLength                  SurveyEase  \n",
       "0  Appropriate in length                        Easy  \n",
       "1  Appropriate in length  Neither easy nor difficult  \n",
       "2  Appropriate in length                        Easy  \n",
       "3  Appropriate in length  Neither easy nor difficult  \n",
       "4  Appropriate in length                        Easy  \n",
       "\n",
       "[5 rows x 85 columns]"
      ]
     },
     "execution_count": 3,
     "metadata": {},
     "output_type": "execute_result"
    }
   ],
   "source": [
    "df.head()"
   ]
  },
  {
   "cell_type": "markdown",
   "metadata": {},
   "source": [
    "Shape of dataset:"
   ]
  },
  {
   "cell_type": "code",
   "execution_count": 4,
   "metadata": {},
   "outputs": [
    {
     "data": {
      "text/plain": [
       "(11552, 85)"
      ]
     },
     "execution_count": 4,
     "metadata": {},
     "output_type": "execute_result"
    }
   ],
   "source": [
    "df.shape"
   ]
  },
  {
   "cell_type": "markdown",
   "metadata": {},
   "source": [
    "Mean age of survey respondents:"
   ]
  },
  {
   "cell_type": "code",
   "execution_count": 5,
   "metadata": {},
   "outputs": [
    {
     "data": {
      "text/plain": [
       "30.77239449133718"
      ]
     },
     "execution_count": 5,
     "metadata": {},
     "output_type": "execute_result"
    }
   ],
   "source": [
    "df['Age'].mean()"
   ]
  },
  {
   "cell_type": "markdown",
   "metadata": {},
   "source": [
    "Number of unique countries in the \"Country\" column:\n"
   ]
  },
  {
   "cell_type": "code",
   "execution_count": 6,
   "metadata": {},
   "outputs": [
    {
     "data": {
      "text/plain": [
       "135"
      ]
     },
     "execution_count": 6,
     "metadata": {},
     "output_type": "execute_result"
    }
   ],
   "source": [
    "df['Country'].nunique()"
   ]
  },
  {
   "cell_type": "markdown",
   "metadata": {},
   "source": [
    "## 3. Data Wrangling <a class=\"anchor\" id=\"chapter3\"></a>"
   ]
  },
  {
   "cell_type": "markdown",
   "metadata": {},
   "source": [
    "After loading the dataset, I cleaned the dataset, which involved (a) removing duplicates, (b) imputing missing values, and (c) standardizing compensation data."
   ]
  },
  {
   "cell_type": "markdown",
   "metadata": {},
   "source": [
    "### 3.1 Removing Duplicates <a class=\"anchor\" id=\"chapter3.1\"></a>"
   ]
  },
  {
   "cell_type": "markdown",
   "metadata": {},
   "source": [
    "All duplicate rows were removed prior to analysis.\n",
    "\n",
    "Finding out the number of duplicate rows:"
   ]
  },
  {
   "cell_type": "code",
   "execution_count": 7,
   "metadata": {},
   "outputs": [
    {
     "data": {
      "text/plain": [
       "154"
      ]
     },
     "execution_count": 7,
     "metadata": {},
     "output_type": "execute_result"
    }
   ],
   "source": [
    "df.duplicated().sum()"
   ]
  },
  {
   "cell_type": "markdown",
   "metadata": {},
   "source": [
    "Removing duplicate rows from the dataframe:\n"
   ]
  },
  {
   "cell_type": "code",
   "execution_count": 8,
   "metadata": {},
   "outputs": [],
   "source": [
    "df = df.drop_duplicates()"
   ]
  },
  {
   "cell_type": "markdown",
   "metadata": {},
   "source": [
    "Verifying that all duplicates were removed:\n"
   ]
  },
  {
   "cell_type": "code",
   "execution_count": 9,
   "metadata": {},
   "outputs": [
    {
     "data": {
      "text/plain": [
       "0"
      ]
     },
     "execution_count": 9,
     "metadata": {},
     "output_type": "execute_result"
    }
   ],
   "source": [
    "df.duplicated().sum()"
   ]
  },
  {
   "cell_type": "markdown",
   "metadata": {},
   "source": [
    "Shape of the resulting dataframe:"
   ]
  },
  {
   "cell_type": "code",
   "execution_count": 10,
   "metadata": {},
   "outputs": [
    {
     "data": {
      "text/plain": [
       "(11398, 85)"
      ]
     },
     "execution_count": 10,
     "metadata": {},
     "output_type": "execute_result"
    }
   ],
   "source": [
    "df.shape"
   ]
  },
  {
   "cell_type": "markdown",
   "metadata": {},
   "source": [
    "### 3.2 Missing Data Imputation <a class=\"anchor\" id=\"chapter3.2\"></a>"
   ]
  },
  {
   "cell_type": "markdown",
   "metadata": {},
   "source": [
    "Count of missing values for all columns:\n"
   ]
  },
  {
   "cell_type": "code",
   "execution_count": 11,
   "metadata": {},
   "outputs": [
    {
     "data": {
      "text/plain": [
       "30967"
      ]
     },
     "execution_count": 11,
     "metadata": {},
     "output_type": "execute_result"
    }
   ],
   "source": [
    "df.isnull().sum().sum()"
   ]
  },
  {
   "cell_type": "markdown",
   "metadata": {},
   "source": [
    "At this stage of the analysis, I was interested in the variable \"WorkLoc\" (i.e., work location) and decided to impute missing values in that column.\n",
    "\n",
    "Number of missing values in \"WorkLoc\":"
   ]
  },
  {
   "cell_type": "code",
   "execution_count": 12,
   "metadata": {},
   "outputs": [
    {
     "data": {
      "text/plain": [
       "32"
      ]
     },
     "execution_count": 12,
     "metadata": {},
     "output_type": "execute_result"
    }
   ],
   "source": [
    "df['WorkLoc'].isnull().sum()"
   ]
  },
  {
   "cell_type": "markdown",
   "metadata": {},
   "source": [
    "Value counts for the column \"WorkLoc\":\n"
   ]
  },
  {
   "cell_type": "code",
   "execution_count": 13,
   "metadata": {},
   "outputs": [
    {
     "data": {
      "text/plain": [
       "Office                                            6806\n",
       "Home                                              3589\n",
       "Other place, such as a coworking space or cafe     971\n",
       "Name: WorkLoc, dtype: int64"
      ]
     },
     "execution_count": 13,
     "metadata": {},
     "output_type": "execute_result"
    }
   ],
   "source": [
    "df['WorkLoc'].value_counts()"
   ]
  },
  {
   "cell_type": "markdown",
   "metadata": {},
   "source": [
    "Identify the value that is most frequent (majority) in the WorkLoc column.\n"
   ]
  },
  {
   "cell_type": "code",
   "execution_count": 14,
   "metadata": {},
   "outputs": [
    {
     "data": {
      "text/plain": [
       "6806"
      ]
     },
     "execution_count": 14,
     "metadata": {},
     "output_type": "execute_result"
    }
   ],
   "source": [
    "#make a note of the majority value here, for future reference\n",
    "majority = df['WorkLoc'].value_counts().max()\n",
    "majority"
   ]
  },
  {
   "cell_type": "markdown",
   "metadata": {},
   "source": [
    "I imputed the missing rows in the column \"WorkLoc\" with its modal value (i.e., \"Office\"):"
   ]
  },
  {
   "cell_type": "code",
   "execution_count": 15,
   "metadata": {},
   "outputs": [],
   "source": [
    "df['WorkLoc'] = df['WorkLoc'].fillna(\"Office\")"
   ]
  },
  {
   "cell_type": "markdown",
   "metadata": {},
   "source": [
    "Verifying that imputation was successful:"
   ]
  },
  {
   "cell_type": "code",
   "execution_count": 16,
   "metadata": {},
   "outputs": [
    {
     "data": {
      "text/plain": [
       "0"
      ]
     },
     "execution_count": 16,
     "metadata": {},
     "output_type": "execute_result"
    }
   ],
   "source": [
    "df['WorkLoc'].isnull().sum()"
   ]
  },
  {
   "cell_type": "markdown",
   "metadata": {},
   "source": [
    "New value counts:"
   ]
  },
  {
   "cell_type": "code",
   "execution_count": 17,
   "metadata": {},
   "outputs": [
    {
     "data": {
      "text/plain": [
       "Office                                            6838\n",
       "Home                                              3589\n",
       "Other place, such as a coworking space or cafe     971\n",
       "Name: WorkLoc, dtype: int64"
      ]
     },
     "execution_count": 17,
     "metadata": {},
     "output_type": "execute_result"
    }
   ],
   "source": [
    "df['WorkLoc'].value_counts()"
   ]
  },
  {
   "cell_type": "markdown",
   "metadata": {},
   "source": [
    "### 3.3 Standardization <a class=\"anchor\" id=\"chapter3.3\"></a>"
   ]
  },
  {
   "cell_type": "markdown",
   "metadata": {},
   "source": [
    "There were two columns in the dataset related to compensation: \"CompFreq\" and \"CompTotal.\"\n",
    "\n",
    "\"CompFreq\" (i.e., compensation frequency) indicated how often the respondent was paid (Yearly, Monthly, or Weekly), whereas \"CompTotal\" (i.e., compensation total) indicated the amount of compensation received per Year, Month, or Week based on his/her compensation frequency. \n",
    "\n",
    "Because I was interested in comparing the total compensation across respondents, I created a new column called 'NormalizedAnnualCompensation,' which indicates the respondents' annual compensation irrespective of their compensation frequency.\n"
   ]
  },
  {
   "cell_type": "code",
   "execution_count": 18,
   "metadata": {},
   "outputs": [
    {
     "data": {
      "text/plain": [
       "Yearly     6073\n",
       "Monthly    4788\n",
       "Weekly      331\n",
       "Name: CompFreq, dtype: int64"
      ]
     },
     "execution_count": 18,
     "metadata": {},
     "output_type": "execute_result"
    }
   ],
   "source": [
    "# Value counts for compensation frequency\n",
    "df[\"CompFreq\"].value_counts()"
   ]
  },
  {
   "cell_type": "markdown",
   "metadata": {},
   "source": [
    "Creating the new column:"
   ]
  },
  {
   "cell_type": "code",
   "execution_count": 19,
   "metadata": {},
   "outputs": [],
   "source": [
    "# Importing numpy\n",
    "import numpy as np\n",
    "\n",
    "# Standardization\n",
    "conditions = [df['CompFreq'] == 'Monthly', df['CompFreq'] == 'Weekly']\n",
    "choicelist = [df['CompTotal'] * 12, df['CompTotal'] * 52]\n",
    "\n",
    "df['NormalizedAnnualCompensation'] = np.select(conditions, choicelist, default=df['CompTotal'])"
   ]
  },
  {
   "cell_type": "markdown",
   "metadata": {},
   "source": [
    "## 4. Analysis and Visualizations I: Compensation, Gender, and Age <a class=\"anchor\" id=\"chapter4\"></a>"
   ]
  },
  {
   "cell_type": "markdown",
   "metadata": {},
   "source": [
    "After cleaning, I explored the data with a focus on the respondents' compensation (i.e., distribution of compensation, outliers, and correlations with other measures)."
   ]
  },
  {
   "cell_type": "markdown",
   "metadata": {},
   "source": [
    "### 4.1 Distributional Properties <a class=\"anchor\" id=\"chapter4.1\"></a>"
   ]
  },
  {
   "cell_type": "markdown",
   "metadata": {},
   "source": [
    "Loading the cleaned dataset using the URL provided by IBM:"
   ]
  },
  {
   "cell_type": "code",
   "execution_count": 20,
   "metadata": {},
   "outputs": [],
   "source": [
    "df = pd.read_csv(\"https://cf-courses-data.s3.us.cloud-object-storage.appdomain.cloud/IBM-DA0321EN-SkillsNetwork/LargeData/m2_survey_data.csv\")"
   ]
  },
  {
   "cell_type": "markdown",
   "metadata": {},
   "source": [
    "#### Annual salary distribution"
   ]
  },
  {
   "cell_type": "markdown",
   "metadata": {},
   "source": [
    "The column `ConvertedComp` indicated respondents' annual salaries in USD (using the exchange rate on 2019-02-01), assuming 12 working months and 50 working weeks.\n",
    "\n",
    "Below is a distribution curve of annual salaries:"
   ]
  },
  {
   "cell_type": "code",
   "execution_count": 21,
   "metadata": {},
   "outputs": [],
   "source": [
    "# Importing matplotlib\n",
    "import matplotlib as mpl\n",
    "import matplotlib.pyplot as plt\n",
    "%matplotlib inline"
   ]
  },
  {
   "cell_type": "code",
   "execution_count": 22,
   "metadata": {},
   "outputs": [],
   "source": [
    "# GGplot style plots\n",
    "mpl.style.use('ggplot')"
   ]
  },
  {
   "cell_type": "code",
   "execution_count": 23,
   "metadata": {},
   "outputs": [
    {
     "data": {
      "text/plain": [
       "<function matplotlib.pyplot.show(close=None, block=None)>"
      ]
     },
     "execution_count": 23,
     "metadata": {},
     "output_type": "execute_result"
    },
    {
     "data": {
      "image/png": "[encoded data removed]",
      "text/plain": [
       "<Figure size 648x504 with 1 Axes>"
      ]
     },
     "metadata": {},
     "output_type": "display_data"
    }
   ],
   "source": [
    "df['ConvertedComp'].plot.kde(figsize = (9, 7))\n",
    "plt.title('Density Plot for Annual Salary', fontsize = 17)\n",
    "plt.xlabel('Annual Salary', fontsize = 15)\n",
    "plt.ylabel('Density', fontsize = 15)\n",
    "plt.xticks(fontsize=13)\n",
    "plt.yticks(fontsize=13)\n",
    "plt.show"
   ]
  },
  {
   "cell_type": "markdown",
   "metadata": {},
   "source": [
    "And below is a histogram:"
   ]
  },
  {
   "cell_type": "code",
   "execution_count": 24,
   "metadata": {},
   "outputs": [
    {
     "data": {
      "text/plain": [
       "<function matplotlib.pyplot.show(close=None, block=None)>"
      ]
     },
     "execution_count": 24,
     "metadata": {},
     "output_type": "execute_result"
    },
    {
     "data": {
      "image/png": "[encoded data removed]",
      "text/plain": [
       "<Figure size 648x504 with 1 Axes>"
      ]
     },
     "metadata": {},
     "output_type": "display_data"
    }
   ],
   "source": [
    "df['ConvertedComp'].plot(kind='hist', edgecolor='black', linewidth=1, figsize = (9,7))\n",
    "plt.title('Histogram of Annual Salary', fontsize = 17)\n",
    "plt.xlabel('Annual Salary (USD)', fontsize = 15)\n",
    "plt.ylabel('Density', fontsize = 15)\n",
    "plt.xticks(fontsize=13)\n",
    "plt.yticks(fontsize=13)\n",
    "plt.show"
   ]
  },
  {
   "cell_type": "markdown",
   "metadata": {},
   "source": [
    "Median of the column `ConvertedComp`:"
   ]
  },
  {
   "cell_type": "code",
   "execution_count": 25,
   "metadata": {},
   "outputs": [
    {
     "data": {
      "text/plain": [
       "57745.0"
      ]
     },
     "execution_count": 25,
     "metadata": {},
     "output_type": "execute_result"
    }
   ],
   "source": [
    "df['ConvertedComp'].median()"
   ]
  },
  {
   "cell_type": "markdown",
   "metadata": {},
   "source": [
    "#### Gender and age distributions"
   ]
  },
  {
   "cell_type": "markdown",
   "metadata": {},
   "source": [
    "Inspecting gender distribution:"
   ]
  },
  {
   "cell_type": "code",
   "execution_count": 26,
   "metadata": {},
   "outputs": [
    {
     "data": {
      "text/plain": [
       "Man                                                            10480\n",
       "Woman                                                            731\n",
       "Non-binary, genderqueer, or gender non-conforming                 63\n",
       "Man;Non-binary, genderqueer, or gender non-conforming             26\n",
       "Woman;Non-binary, genderqueer, or gender non-conforming           14\n",
       "Woman;Man                                                          9\n",
       "Woman;Man;Non-binary, genderqueer, or gender non-conforming        2\n",
       "Name: Gender, dtype: int64"
      ]
     },
     "execution_count": 26,
     "metadata": {},
     "output_type": "execute_result"
    }
   ],
   "source": [
    "df['Gender'].value_counts()"
   ]
  },
  {
   "cell_type": "markdown",
   "metadata": {},
   "source": [
    "So there was a high gender representation gap (in favor of men) among survey respondents."
   ]
  },
  {
   "cell_type": "markdown",
   "metadata": {},
   "source": [
    "Inspecting age distribution:"
   ]
  },
  {
   "cell_type": "code",
   "execution_count": 27,
   "metadata": {},
   "outputs": [
    {
     "name": "stdout",
     "output_type": "stream",
     "text": [
      "count    11111.000000\n",
      "mean        30.778895\n",
      "std          7.393686\n",
      "min         16.000000\n",
      "25%         25.000000\n",
      "50%         29.000000\n",
      "75%         35.000000\n",
      "max         99.000000\n",
      "Name: Age, dtype: float64\n",
      "median: 29.0\n"
     ]
    }
   ],
   "source": [
    "print(df['Age'].describe())\n",
    "print(\"median:\", df['Age'].median())"
   ]
  },
  {
   "cell_type": "markdown",
   "metadata": {},
   "source": [
    "Histogram of `Age`:"
   ]
  },
  {
   "cell_type": "code",
   "execution_count": 28,
   "metadata": {},
   "outputs": [
    {
     "data": {
      "text/plain": [
       "<function matplotlib.pyplot.show(close=None, block=None)>"
      ]
     },
     "execution_count": 28,
     "metadata": {},
     "output_type": "execute_result"
    },
    {
     "data": {
      "image/png": "[encoded data removed]",
      "text/plain": [
       "<Figure size 648x504 with 1 Axes>"
      ]
     },
     "metadata": {},
     "output_type": "display_data"
    }
   ],
   "source": [
    "df['Age'].plot(kind='hist', edgecolor='black', linewidth=1, figsize = (9,7))\n",
    "plt.title('Histogram of Age', fontsize = 17)\n",
    "plt.xlabel('Age', fontsize = 15)\n",
    "plt.ylabel('Frequency', fontsize = 15)\n",
    "plt.xticks(fontsize=13)\n",
    "plt.yticks(fontsize=13)\n",
    "plt.show"
   ]
  },
  {
   "cell_type": "markdown",
   "metadata": {},
   "source": [
    "### 4.2 Outliers <a class=\"anchor\" id=\"chapter4.2\"></a>"
   ]
  },
  {
   "cell_type": "markdown",
   "metadata": {},
   "source": [
    "Next, I decided to detect and drop compensation outliers using the IQR method."
   ]
  },
  {
   "cell_type": "markdown",
   "metadata": {},
   "source": [
    "Box plot of annual salary:"
   ]
  },
  {
   "cell_type": "code",
   "execution_count": 29,
   "metadata": {},
   "outputs": [
    {
     "data": {
      "text/plain": [
       "<function matplotlib.pyplot.show(close=None, block=None)>"
      ]
     },
     "execution_count": 29,
     "metadata": {},
     "output_type": "execute_result"
    },
    {
     "data": {
      "image/png": "[encoded data removed]",
      "text/plain": [
       "<Figure size 432x720 with 1 Axes>"
      ]
     },
     "metadata": {},
     "output_type": "display_data"
    }
   ],
   "source": [
    "df['ConvertedComp'].plot(kind='box', figsize=(6, 10))\n",
    "plt.title('Box Plot of Annual Salary', fontsize = 17)\n",
    "plt.ylabel('Annual Salary', fontsize = 15)\n",
    "plt.yticks(fontsize=13)\n",
    "ax = plt.gca()\n",
    "ax.axes.xaxis.set_visible(False)\n",
    "plt.show"
   ]
  },
  {
   "cell_type": "markdown",
   "metadata": {},
   "source": [
    "Inter-quartile range for annual salary:"
   ]
  },
  {
   "cell_type": "code",
   "execution_count": 30,
   "metadata": {},
   "outputs": [
    {
     "data": {
      "text/plain": [
       "count    1.058200e+04\n",
       "mean     1.315967e+05\n",
       "std      2.947865e+05\n",
       "min      0.000000e+00\n",
       "25%      2.686800e+04\n",
       "50%      5.774500e+04\n",
       "75%      1.000000e+05\n",
       "max      2.000000e+06\n",
       "Name: ConvertedComp, dtype: float64"
      ]
     },
     "execution_count": 30,
     "metadata": {},
     "output_type": "execute_result"
    }
   ],
   "source": [
    "# Upper and lower quartiles\n",
    "df['ConvertedComp'].describe()"
   ]
  },
  {
   "cell_type": "code",
   "execution_count": 31,
   "metadata": {},
   "outputs": [
    {
     "name": "stdout",
     "output_type": "stream",
     "text": [
      "The inter-quartile range is 73132.0\n"
     ]
    }
   ],
   "source": [
    "# Inter-quartile range\n",
    "q1 = 2.686800e+04\n",
    "q3 = 1.000000e+05\n",
    "iqr =  q3- q1\n",
    "print(\"The inter-quartile range is\", iqr)"
   ]
  },
  {
   "cell_type": "markdown",
   "metadata": {},
   "source": [
    "Number of outliers in annual salary:"
   ]
  },
  {
   "cell_type": "code",
   "execution_count": 32,
   "metadata": {},
   "outputs": [
    {
     "data": {
      "text/plain": [
       "879"
      ]
     },
     "execution_count": 32,
     "metadata": {},
     "output_type": "execute_result"
    }
   ],
   "source": [
    "# Lower bound\n",
    "O1 = q1 - 1.5*iqr # Note that the lower bound is smaller than zero\n",
    "\n",
    "# Upper bound\n",
    "O2 = q3 + 1.5*iqr\n",
    "\n",
    "# Detecting outliers\n",
    "x = df['ConvertedComp'] < O1 # Note that there are no values smaller than the lower bound\n",
    "y = df['ConvertedComp'] > O2\n",
    "\n",
    "# Counting the number of outliers\n",
    "x.sum() + y.sum()"
   ]
  },
  {
   "cell_type": "markdown",
   "metadata": {},
   "source": [
    "Creating a new dataframe by removing the foregoing outliers:"
   ]
  },
  {
   "cell_type": "code",
   "execution_count": 33,
   "metadata": {},
   "outputs": [
    {
     "data": {
      "text/html": [
       "<div>\n",
       "<style scoped>\n",
       "    .dataframe tbody tr th:only-of-type {\n",
       "        vertical-align: middle;\n",
       "    }\n",
       "\n",
       "    .dataframe tbody tr th {\n",
       "        vertical-align: top;\n",
       "    }\n",
       "\n",
       "    .dataframe thead th {\n",
       "        text-align: right;\n",
       "    }\n",
       "</style>\n",
       "<table border=\"1\" class=\"dataframe\">\n",
       "  <thead>\n",
       "    <tr style=\"text-align: right;\">\n",
       "      <th></th>\n",
       "      <th>Respondent</th>\n",
       "      <th>MainBranch</th>\n",
       "      <th>Hobbyist</th>\n",
       "      <th>OpenSourcer</th>\n",
       "      <th>OpenSource</th>\n",
       "      <th>Employment</th>\n",
       "      <th>Country</th>\n",
       "      <th>Student</th>\n",
       "      <th>EdLevel</th>\n",
       "      <th>UndergradMajor</th>\n",
       "      <th>...</th>\n",
       "      <th>WelcomeChange</th>\n",
       "      <th>SONewContent</th>\n",
       "      <th>Age</th>\n",
       "      <th>Gender</th>\n",
       "      <th>Trans</th>\n",
       "      <th>Sexuality</th>\n",
       "      <th>Ethnicity</th>\n",
       "      <th>Dependents</th>\n",
       "      <th>SurveyLength</th>\n",
       "      <th>SurveyEase</th>\n",
       "    </tr>\n",
       "  </thead>\n",
       "  <tbody>\n",
       "    <tr>\n",
       "      <th>0</th>\n",
       "      <td>4</td>\n",
       "      <td>I am a developer by profession</td>\n",
       "      <td>No</td>\n",
       "      <td>Never</td>\n",
       "      <td>The quality of OSS and closed source software ...</td>\n",
       "      <td>Employed full-time</td>\n",
       "      <td>United States</td>\n",
       "      <td>No</td>\n",
       "      <td>Bachelor’s degree (BA, BS, B.Eng., etc.)</td>\n",
       "      <td>Computer science, computer engineering, or sof...</td>\n",
       "      <td>...</td>\n",
       "      <td>Just as welcome now as I felt last year</td>\n",
       "      <td>Tech articles written by other developers;Indu...</td>\n",
       "      <td>22.0</td>\n",
       "      <td>Man</td>\n",
       "      <td>No</td>\n",
       "      <td>Straight / Heterosexual</td>\n",
       "      <td>White or of European descent</td>\n",
       "      <td>No</td>\n",
       "      <td>Appropriate in length</td>\n",
       "      <td>Easy</td>\n",
       "    </tr>\n",
       "    <tr>\n",
       "      <th>1</th>\n",
       "      <td>9</td>\n",
       "      <td>I am a developer by profession</td>\n",
       "      <td>Yes</td>\n",
       "      <td>Once a month or more often</td>\n",
       "      <td>The quality of OSS and closed source software ...</td>\n",
       "      <td>Employed full-time</td>\n",
       "      <td>New Zealand</td>\n",
       "      <td>No</td>\n",
       "      <td>Some college/university study without earning ...</td>\n",
       "      <td>Computer science, computer engineering, or sof...</td>\n",
       "      <td>...</td>\n",
       "      <td>Just as welcome now as I felt last year</td>\n",
       "      <td>NaN</td>\n",
       "      <td>23.0</td>\n",
       "      <td>Man</td>\n",
       "      <td>No</td>\n",
       "      <td>Bisexual</td>\n",
       "      <td>White or of European descent</td>\n",
       "      <td>No</td>\n",
       "      <td>Appropriate in length</td>\n",
       "      <td>Neither easy nor difficult</td>\n",
       "    </tr>\n",
       "    <tr>\n",
       "      <th>2</th>\n",
       "      <td>13</td>\n",
       "      <td>I am a developer by profession</td>\n",
       "      <td>Yes</td>\n",
       "      <td>Less than once a month but more than once per ...</td>\n",
       "      <td>OSS is, on average, of HIGHER quality than pro...</td>\n",
       "      <td>Employed full-time</td>\n",
       "      <td>United States</td>\n",
       "      <td>No</td>\n",
       "      <td>Master’s degree (MA, MS, M.Eng., MBA, etc.)</td>\n",
       "      <td>Computer science, computer engineering, or sof...</td>\n",
       "      <td>...</td>\n",
       "      <td>Somewhat more welcome now than last year</td>\n",
       "      <td>Tech articles written by other developers;Cour...</td>\n",
       "      <td>28.0</td>\n",
       "      <td>Man</td>\n",
       "      <td>No</td>\n",
       "      <td>Straight / Heterosexual</td>\n",
       "      <td>White or of European descent</td>\n",
       "      <td>Yes</td>\n",
       "      <td>Appropriate in length</td>\n",
       "      <td>Easy</td>\n",
       "    </tr>\n",
       "    <tr>\n",
       "      <th>4</th>\n",
       "      <td>17</td>\n",
       "      <td>I am a developer by profession</td>\n",
       "      <td>Yes</td>\n",
       "      <td>Less than once a month but more than once per ...</td>\n",
       "      <td>The quality of OSS and closed source software ...</td>\n",
       "      <td>Employed full-time</td>\n",
       "      <td>Australia</td>\n",
       "      <td>No</td>\n",
       "      <td>Bachelor’s degree (BA, BS, B.Eng., etc.)</td>\n",
       "      <td>Computer science, computer engineering, or sof...</td>\n",
       "      <td>...</td>\n",
       "      <td>Just as welcome now as I felt last year</td>\n",
       "      <td>Tech articles written by other developers;Indu...</td>\n",
       "      <td>29.0</td>\n",
       "      <td>Man</td>\n",
       "      <td>No</td>\n",
       "      <td>Straight / Heterosexual</td>\n",
       "      <td>Hispanic or Latino/Latina;Multiracial</td>\n",
       "      <td>No</td>\n",
       "      <td>Appropriate in length</td>\n",
       "      <td>Easy</td>\n",
       "    </tr>\n",
       "    <tr>\n",
       "      <th>5</th>\n",
       "      <td>19</td>\n",
       "      <td>I am a developer by profession</td>\n",
       "      <td>Yes</td>\n",
       "      <td>Never</td>\n",
       "      <td>The quality of OSS and closed source software ...</td>\n",
       "      <td>Employed full-time</td>\n",
       "      <td>Brazil</td>\n",
       "      <td>No</td>\n",
       "      <td>Some college/university study without earning ...</td>\n",
       "      <td>Computer science, computer engineering, or sof...</td>\n",
       "      <td>...</td>\n",
       "      <td>Just as welcome now as I felt last year</td>\n",
       "      <td>Tech articles written by other developers;Indu...</td>\n",
       "      <td>31.0</td>\n",
       "      <td>Man</td>\n",
       "      <td>No</td>\n",
       "      <td>Straight / Heterosexual</td>\n",
       "      <td>Hispanic or Latino/Latina</td>\n",
       "      <td>Yes</td>\n",
       "      <td>Too long</td>\n",
       "      <td>Easy</td>\n",
       "    </tr>\n",
       "  </tbody>\n",
       "</table>\n",
       "<p>5 rows × 85 columns</p>\n",
       "</div>"
      ],
      "text/plain": [
       "   Respondent                      MainBranch Hobbyist  \\\n",
       "0           4  I am a developer by profession       No   \n",
       "1           9  I am a developer by profession      Yes   \n",
       "2          13  I am a developer by profession      Yes   \n",
       "4          17  I am a developer by profession      Yes   \n",
       "5          19  I am a developer by profession      Yes   \n",
       "\n",
       "                                         OpenSourcer  \\\n",
       "0                                              Never   \n",
       "1                         Once a month or more often   \n",
       "2  Less than once a month but more than once per ...   \n",
       "4  Less than once a month but more than once per ...   \n",
       "5                                              Never   \n",
       "\n",
       "                                          OpenSource          Employment  \\\n",
       "0  The quality of OSS and closed source software ...  Employed full-time   \n",
       "1  The quality of OSS and closed source software ...  Employed full-time   \n",
       "2  OSS is, on average, of HIGHER quality than pro...  Employed full-time   \n",
       "4  The quality of OSS and closed source software ...  Employed full-time   \n",
       "5  The quality of OSS and closed source software ...  Employed full-time   \n",
       "\n",
       "         Country Student                                            EdLevel  \\\n",
       "0  United States      No           Bachelor’s degree (BA, BS, B.Eng., etc.)   \n",
       "1    New Zealand      No  Some college/university study without earning ...   \n",
       "2  United States      No        Master’s degree (MA, MS, M.Eng., MBA, etc.)   \n",
       "4      Australia      No           Bachelor’s degree (BA, BS, B.Eng., etc.)   \n",
       "5         Brazil      No  Some college/university study without earning ...   \n",
       "\n",
       "                                      UndergradMajor  ...  \\\n",
       "0  Computer science, computer engineering, or sof...  ...   \n",
       "1  Computer science, computer engineering, or sof...  ...   \n",
       "2  Computer science, computer engineering, or sof...  ...   \n",
       "4  Computer science, computer engineering, or sof...  ...   \n",
       "5  Computer science, computer engineering, or sof...  ...   \n",
       "\n",
       "                              WelcomeChange  \\\n",
       "0   Just as welcome now as I felt last year   \n",
       "1   Just as welcome now as I felt last year   \n",
       "2  Somewhat more welcome now than last year   \n",
       "4   Just as welcome now as I felt last year   \n",
       "5   Just as welcome now as I felt last year   \n",
       "\n",
       "                                        SONewContent   Age Gender Trans  \\\n",
       "0  Tech articles written by other developers;Indu...  22.0    Man    No   \n",
       "1                                                NaN  23.0    Man    No   \n",
       "2  Tech articles written by other developers;Cour...  28.0    Man    No   \n",
       "4  Tech articles written by other developers;Indu...  29.0    Man    No   \n",
       "5  Tech articles written by other developers;Indu...  31.0    Man    No   \n",
       "\n",
       "                 Sexuality                              Ethnicity Dependents  \\\n",
       "0  Straight / Heterosexual           White or of European descent         No   \n",
       "1                 Bisexual           White or of European descent         No   \n",
       "2  Straight / Heterosexual           White or of European descent        Yes   \n",
       "4  Straight / Heterosexual  Hispanic or Latino/Latina;Multiracial         No   \n",
       "5  Straight / Heterosexual              Hispanic or Latino/Latina        Yes   \n",
       "\n",
       "            SurveyLength                  SurveyEase  \n",
       "0  Appropriate in length                        Easy  \n",
       "1  Appropriate in length  Neither easy nor difficult  \n",
       "2  Appropriate in length                        Easy  \n",
       "4  Appropriate in length                        Easy  \n",
       "5               Too long                        Easy  \n",
       "\n",
       "[5 rows x 85 columns]"
      ]
     },
     "execution_count": 33,
     "metadata": {},
     "output_type": "execute_result"
    }
   ],
   "source": [
    "df_outliers = df[df['ConvertedComp'] > O2]\n",
    "df.drop(df_outliers.index, axis=0, inplace = True)\n",
    "df.head()"
   ]
  },
  {
   "cell_type": "markdown",
   "metadata": {},
   "source": [
    "Checking the new distribution of annual salaries after dropping outliers:"
   ]
  },
  {
   "cell_type": "code",
   "execution_count": 34,
   "metadata": {},
   "outputs": [
    {
     "data": {
      "text/plain": [
       "<function matplotlib.pyplot.show(close=None, block=None)>"
      ]
     },
     "execution_count": 34,
     "metadata": {},
     "output_type": "execute_result"
    },
    {
     "data": {
      "image/png": "[encoded data removed]",
      "text/plain": [
       "<Figure size 648x504 with 1 Axes>"
      ]
     },
     "metadata": {},
     "output_type": "display_data"
    }
   ],
   "source": [
    "df['ConvertedComp'].plot.kde(figsize = (9, 7))\n",
    "plt.title('Density Plot for Annual Salary', fontsize = 17)\n",
    "plt.xlabel('Annual Salary', fontsize = 15)\n",
    "plt.ylabel('Density', fontsize = 15)\n",
    "plt.xticks(fontsize=13)\n",
    "plt.yticks(fontsize=13)\n",
    "plt.show"
   ]
  },
  {
   "cell_type": "markdown",
   "metadata": {},
   "source": [
    "And the histogram:"
   ]
  },
  {
   "cell_type": "code",
   "execution_count": 35,
   "metadata": {},
   "outputs": [
    {
     "data": {
      "text/plain": [
       "<function matplotlib.pyplot.show(close=None, block=None)>"
      ]
     },
     "execution_count": 35,
     "metadata": {},
     "output_type": "execute_result"
    },
    {
     "data": {
      "image/png": "[encoded data removed]",
      "text/plain": [
       "<Figure size 648x504 with 1 Axes>"
      ]
     },
     "metadata": {},
     "output_type": "display_data"
    }
   ],
   "source": [
    "df['ConvertedComp'].plot(kind='hist', edgecolor='black', linewidth=1, figsize = (9, 7))\n",
    "\n",
    "plt.title('Histogram of Annual Salary', fontsize = 17)\n",
    "plt.xlabel('Annual Salary (USD)', fontsize = 15)\n",
    "plt.ylabel('Density', fontsize = 15)\n",
    "plt.xticks(fontsize=13)\n",
    "plt.yticks(fontsize=13)\n",
    "plt.show"
   ]
  },
  {
   "cell_type": "markdown",
   "metadata": {},
   "source": [
    "Checking the new median of annual salaries:"
   ]
  },
  {
   "cell_type": "code",
   "execution_count": 36,
   "metadata": {},
   "outputs": [
    {
     "data": {
      "text/plain": [
       "52704.0"
      ]
     },
     "execution_count": 36,
     "metadata": {},
     "output_type": "execute_result"
    }
   ],
   "source": [
    "df['ConvertedComp'].median()"
   ]
  },
  {
   "cell_type": "markdown",
   "metadata": {},
   "source": [
    "At this point, I decided to compare the median salaries of men versus women:"
   ]
  },
  {
   "cell_type": "code",
   "execution_count": 37,
   "metadata": {},
   "outputs": [
    {
     "name": "stdout",
     "output_type": "stream",
     "text": [
      "Men: 52339.0\n",
      "Women: 54956.0\n"
     ]
    }
   ],
   "source": [
    "# Median annual salary of responders identifying themselves only as a man:\n",
    "print(\"Men:\", df[df['Gender']=='Man']['ConvertedComp'].median())\n",
    "\n",
    "# Median annual salary of responders identifying themselves only as a woman:\n",
    "print(\"Women:\", df[df['Gender']=='Woman']['ConvertedComp'].median())"
   ]
  },
  {
   "cell_type": "markdown",
   "metadata": {},
   "source": [
    "So interestingly women have a slightly higher median annual salary in spite of the gender representation gap in favor of men."
   ]
  },
  {
   "cell_type": "markdown",
   "metadata": {},
   "source": [
    "### 4.3 Bivariate Correlations <a class=\"anchor\" id=\"chapter4.3\"></a>"
   ]
  },
  {
   "cell_type": "markdown",
   "metadata": {},
   "source": [
    "Next, I wanted to observe the correlations between compensation, age, and all other numerical columns:"
   ]
  },
  {
   "cell_type": "code",
   "execution_count": 38,
   "metadata": {},
   "outputs": [
    {
     "data": {
      "text/html": [
       "<div>\n",
       "<style scoped>\n",
       "    .dataframe tbody tr th:only-of-type {\n",
       "        vertical-align: middle;\n",
       "    }\n",
       "\n",
       "    .dataframe tbody tr th {\n",
       "        vertical-align: top;\n",
       "    }\n",
       "\n",
       "    .dataframe thead th {\n",
       "        text-align: right;\n",
       "    }\n",
       "</style>\n",
       "<table border=\"1\" class=\"dataframe\">\n",
       "  <thead>\n",
       "    <tr style=\"text-align: right;\">\n",
       "      <th></th>\n",
       "      <th>Respondent</th>\n",
       "      <th>CompTotal</th>\n",
       "      <th>ConvertedComp</th>\n",
       "      <th>WorkWeekHrs</th>\n",
       "      <th>CodeRevHrs</th>\n",
       "      <th>Age</th>\n",
       "    </tr>\n",
       "  </thead>\n",
       "  <tbody>\n",
       "    <tr>\n",
       "      <th>Respondent</th>\n",
       "      <td>1.00</td>\n",
       "      <td>-0.02</td>\n",
       "      <td>0.01</td>\n",
       "      <td>-0.02</td>\n",
       "      <td>0.00</td>\n",
       "      <td>0.00</td>\n",
       "    </tr>\n",
       "    <tr>\n",
       "      <th>CompTotal</th>\n",
       "      <td>-0.02</td>\n",
       "      <td>1.00</td>\n",
       "      <td>-0.06</td>\n",
       "      <td>0.00</td>\n",
       "      <td>0.02</td>\n",
       "      <td>0.01</td>\n",
       "    </tr>\n",
       "    <tr>\n",
       "      <th>ConvertedComp</th>\n",
       "      <td>0.01</td>\n",
       "      <td>-0.06</td>\n",
       "      <td>1.00</td>\n",
       "      <td>0.03</td>\n",
       "      <td>-0.09</td>\n",
       "      <td>0.40</td>\n",
       "    </tr>\n",
       "    <tr>\n",
       "      <th>WorkWeekHrs</th>\n",
       "      <td>-0.02</td>\n",
       "      <td>0.00</td>\n",
       "      <td>0.03</td>\n",
       "      <td>1.00</td>\n",
       "      <td>0.03</td>\n",
       "      <td>0.04</td>\n",
       "    </tr>\n",
       "    <tr>\n",
       "      <th>CodeRevHrs</th>\n",
       "      <td>0.00</td>\n",
       "      <td>0.02</td>\n",
       "      <td>-0.09</td>\n",
       "      <td>0.03</td>\n",
       "      <td>1.00</td>\n",
       "      <td>-0.02</td>\n",
       "    </tr>\n",
       "    <tr>\n",
       "      <th>Age</th>\n",
       "      <td>0.00</td>\n",
       "      <td>0.01</td>\n",
       "      <td>0.40</td>\n",
       "      <td>0.04</td>\n",
       "      <td>-0.02</td>\n",
       "      <td>1.00</td>\n",
       "    </tr>\n",
       "  </tbody>\n",
       "</table>\n",
       "</div>"
      ],
      "text/plain": [
       "               Respondent  CompTotal  ConvertedComp  WorkWeekHrs  CodeRevHrs  \\\n",
       "Respondent           1.00      -0.02           0.01        -0.02        0.00   \n",
       "CompTotal           -0.02       1.00          -0.06         0.00        0.02   \n",
       "ConvertedComp        0.01      -0.06           1.00         0.03       -0.09   \n",
       "WorkWeekHrs         -0.02       0.00           0.03         1.00        0.03   \n",
       "CodeRevHrs           0.00       0.02          -0.09         0.03        1.00   \n",
       "Age                  0.00       0.01           0.40         0.04       -0.02   \n",
       "\n",
       "                Age  \n",
       "Respondent     0.00  \n",
       "CompTotal      0.01  \n",
       "ConvertedComp  0.40  \n",
       "WorkWeekHrs    0.04  \n",
       "CodeRevHrs    -0.02  \n",
       "Age            1.00  "
      ]
     },
     "execution_count": 38,
     "metadata": {},
     "output_type": "execute_result"
    }
   ],
   "source": [
    "df.corr().round(2)"
   ]
  },
  {
   "cell_type": "markdown",
   "metadata": {},
   "source": [
    "There is a positive correlation between annual salary (i.e., \"ConvertedComp\") and Age (__*r* = .40__), which makes sense, given that older developers tend to have accrued more experience and thus hold higher-paid positions."
   ]
  },
  {
   "cell_type": "markdown",
   "metadata": {},
   "source": [
    "To demonstrate this positive correlation, I created a line plot of median annual salary by age:"
   ]
  },
  {
   "cell_type": "code",
   "execution_count": 39,
   "metadata": {},
   "outputs": [
    {
     "data": {
      "text/html": [
       "<div>\n",
       "<style scoped>\n",
       "    .dataframe tbody tr th:only-of-type {\n",
       "        vertical-align: middle;\n",
       "    }\n",
       "\n",
       "    .dataframe tbody tr th {\n",
       "        vertical-align: top;\n",
       "    }\n",
       "\n",
       "    .dataframe thead th {\n",
       "        text-align: right;\n",
       "    }\n",
       "</style>\n",
       "<table border=\"1\" class=\"dataframe\">\n",
       "  <thead>\n",
       "    <tr style=\"text-align: right;\">\n",
       "      <th></th>\n",
       "      <th>Age</th>\n",
       "      <th>Respondent</th>\n",
       "      <th>CompTotal</th>\n",
       "      <th>ConvertedComp</th>\n",
       "      <th>WorkWeekHrs</th>\n",
       "      <th>CodeRevHrs</th>\n",
       "    </tr>\n",
       "  </thead>\n",
       "  <tbody>\n",
       "    <tr>\n",
       "      <th>0</th>\n",
       "      <td>16.0</td>\n",
       "      <td>10544.0</td>\n",
       "      <td>1000.0</td>\n",
       "      <td>8700.0</td>\n",
       "      <td>40.0</td>\n",
       "      <td>1.0</td>\n",
       "    </tr>\n",
       "    <tr>\n",
       "      <th>1</th>\n",
       "      <td>17.0</td>\n",
       "      <td>18897.5</td>\n",
       "      <td>2250.0</td>\n",
       "      <td>43550.5</td>\n",
       "      <td>26.0</td>\n",
       "      <td>2.0</td>\n",
       "    </tr>\n",
       "    <tr>\n",
       "      <th>2</th>\n",
       "      <td>18.0</td>\n",
       "      <td>7580.0</td>\n",
       "      <td>15000.0</td>\n",
       "      <td>20936.0</td>\n",
       "      <td>35.0</td>\n",
       "      <td>3.0</td>\n",
       "    </tr>\n",
       "    <tr>\n",
       "      <th>3</th>\n",
       "      <td>19.0</td>\n",
       "      <td>11362.0</td>\n",
       "      <td>4550.0</td>\n",
       "      <td>17850.0</td>\n",
       "      <td>40.0</td>\n",
       "      <td>3.0</td>\n",
       "    </tr>\n",
       "    <tr>\n",
       "      <th>4</th>\n",
       "      <td>20.0</td>\n",
       "      <td>12234.0</td>\n",
       "      <td>8500.0</td>\n",
       "      <td>17820.0</td>\n",
       "      <td>40.0</td>\n",
       "      <td>3.0</td>\n",
       "    </tr>\n",
       "  </tbody>\n",
       "</table>\n",
       "</div>"
      ],
      "text/plain": [
       "    Age  Respondent  CompTotal  ConvertedComp  WorkWeekHrs  CodeRevHrs\n",
       "0  16.0     10544.0     1000.0         8700.0         40.0         1.0\n",
       "1  17.0     18897.5     2250.0        43550.5         26.0         2.0\n",
       "2  18.0      7580.0    15000.0        20936.0         35.0         3.0\n",
       "3  19.0     11362.0     4550.0        17850.0         40.0         3.0\n",
       "4  20.0     12234.0     8500.0        17820.0         40.0         3.0"
      ]
     },
     "execution_count": 39,
     "metadata": {},
     "output_type": "execute_result"
    }
   ],
   "source": [
    "# Creating a new dataframe of median annual salary grouped by age\n",
    "\n",
    "df2 = df.groupby(['Age']).median()\n",
    "df2.reset_index(inplace =True)\n",
    "df2.head()"
   ]
  },
  {
   "cell_type": "code",
   "execution_count": 40,
   "metadata": {},
   "outputs": [
    {
     "data": {
      "text/plain": [
       "<function matplotlib.pyplot.show(close=None, block=None)>"
      ]
     },
     "execution_count": 40,
     "metadata": {},
     "output_type": "execute_result"
    },
    {
     "data": {
      "image/png": "[encoded data removed]",
      "text/plain": [
       "<Figure size 864x432 with 1 Axes>"
      ]
     },
     "metadata": {},
     "output_type": "display_data"
    }
   ],
   "source": [
    "# Plotting median annual salary by age for those aged 20 to 60:\n",
    "\n",
    "df2.plot(x=\"Age\", y=\"ConvertedComp\", figsize=(12, 6), legend = False)\n",
    "plt.title('Line Chart of Median Annual Salary by Age', fontsize = 17)\n",
    "plt.xlabel('Age', fontsize = 15)\n",
    "plt.ylabel('Median Annual Salary (USD)', fontsize = 15)\n",
    "plt.xticks(fontsize=13)\n",
    "plt.yticks(fontsize=13)\n",
    "plt.xlim([20,60])\n",
    "plt.show"
   ]
  },
  {
   "cell_type": "markdown",
   "metadata": {},
   "source": [
    "The plot above is consistent with the positive correlation found between age and annual salary."
   ]
  },
  {
   "cell_type": "markdown",
   "metadata": {},
   "source": [
    "## 5. Analysis and Visualizations II: Technology Usage and Trends, Work Hours, and More <a class=\"anchor\" id=\"chapter5\"></a>"
   ]
  },
  {
   "cell_type": "markdown",
   "metadata": {},
   "source": [
    "Finally I created additional visualizations, this time focusing on the technologies (i.e., languages, databases, platforms) used by developers in 2019 and desired for the next year, work hours, and other measures."
   ]
  },
  {
   "cell_type": "markdown",
   "metadata": {},
   "source": [
    "### 5.1 *SQL* Queries to Extract Data <a class=\"anchor\" id=\"chapter5.1\"></a>"
   ]
  },
  {
   "cell_type": "markdown",
   "metadata": {},
   "source": [
    "For these visualizations, I used SQL queries on the cleaned dataset, provided by IBM in the form of a RDBMS."
   ]
  },
  {
   "cell_type": "markdown",
   "metadata": {},
   "source": [
    "Downloading the database file:"
   ]
  },
  {
   "cell_type": "code",
   "execution_count": 41,
   "metadata": {},
   "outputs": [
    {
     "data": {
      "text/plain": [
       "('C:\\\\Users\\\\diage\\\\AppData\\\\Local\\\\Temp\\\\tmp2n1qisd_',\n",
       " <http.client.HTTPMessage at 0x1d35e8a2e20>)"
      ]
     },
     "execution_count": 41,
     "metadata": {},
     "output_type": "execute_result"
    }
   ],
   "source": [
    "import urllib\n",
    "urllib.request.urlretrieve(\"https://cf-courses-data.s3.us.cloud-object-storage.appdomain.cloud/IBM-DA0321EN-SkillsNetwork/LargeData/m4_survey_data.sqlite\")"
   ]
  },
  {
   "cell_type": "markdown",
   "metadata": {},
   "source": [
    "Connecting to the database:"
   ]
  },
  {
   "cell_type": "code",
   "execution_count": 42,
   "metadata": {},
   "outputs": [],
   "source": [
    "import sqlite3\n",
    "# Opening a database connection\n",
    "conn = sqlite3.connect(\"m4_survey_data.sqlite\") "
   ]
  },
  {
   "cell_type": "markdown",
   "metadata": {},
   "source": [
    "Number of rows in the \"master\" table:"
   ]
  },
  {
   "cell_type": "code",
   "execution_count": 43,
   "metadata": {},
   "outputs": [
    {
     "data": {
      "text/html": [
       "<div>\n",
       "<style scoped>\n",
       "    .dataframe tbody tr th:only-of-type {\n",
       "        vertical-align: middle;\n",
       "    }\n",
       "\n",
       "    .dataframe tbody tr th {\n",
       "        vertical-align: top;\n",
       "    }\n",
       "\n",
       "    .dataframe thead th {\n",
       "        text-align: right;\n",
       "    }\n",
       "</style>\n",
       "<table border=\"1\" class=\"dataframe\">\n",
       "  <thead>\n",
       "    <tr style=\"text-align: right;\">\n",
       "      <th></th>\n",
       "      <th>COUNT(*)</th>\n",
       "    </tr>\n",
       "  </thead>\n",
       "  <tbody>\n",
       "    <tr>\n",
       "      <th>0</th>\n",
       "      <td>11398</td>\n",
       "    </tr>\n",
       "  </tbody>\n",
       "</table>\n",
       "</div>"
      ],
      "text/plain": [
       "   COUNT(*)\n",
       "0     11398"
      ]
     },
     "execution_count": 43,
     "metadata": {},
     "output_type": "execute_result"
    }
   ],
   "source": [
    "QUERY = \"\"\"\n",
    "SELECT COUNT(*)\n",
    "FROM master\n",
    "\"\"\"\n",
    "\n",
    "master = pd.read_sql_query(QUERY,conn)\n",
    "master.head()"
   ]
  },
  {
   "cell_type": "markdown",
   "metadata": {},
   "source": [
    "List of tables in the database:"
   ]
  },
  {
   "cell_type": "code",
   "execution_count": 44,
   "metadata": {
    "scrolled": true
   },
   "outputs": [
    {
     "data": {
      "text/html": [
       "<div>\n",
       "<style scoped>\n",
       "    .dataframe tbody tr th:only-of-type {\n",
       "        vertical-align: middle;\n",
       "    }\n",
       "\n",
       "    .dataframe tbody tr th {\n",
       "        vertical-align: top;\n",
       "    }\n",
       "\n",
       "    .dataframe thead th {\n",
       "        text-align: right;\n",
       "    }\n",
       "</style>\n",
       "<table border=\"1\" class=\"dataframe\">\n",
       "  <thead>\n",
       "    <tr style=\"text-align: right;\">\n",
       "      <th></th>\n",
       "      <th>Table_Name</th>\n",
       "    </tr>\n",
       "  </thead>\n",
       "  <tbody>\n",
       "    <tr>\n",
       "      <th>0</th>\n",
       "      <td>EduOther</td>\n",
       "    </tr>\n",
       "    <tr>\n",
       "      <th>1</th>\n",
       "      <td>DevType</td>\n",
       "    </tr>\n",
       "    <tr>\n",
       "      <th>2</th>\n",
       "      <td>LastInt</td>\n",
       "    </tr>\n",
       "    <tr>\n",
       "      <th>3</th>\n",
       "      <td>JobFactors</td>\n",
       "    </tr>\n",
       "    <tr>\n",
       "      <th>4</th>\n",
       "      <td>WorkPlan</td>\n",
       "    </tr>\n",
       "    <tr>\n",
       "      <th>5</th>\n",
       "      <td>WorkChallenge</td>\n",
       "    </tr>\n",
       "    <tr>\n",
       "      <th>6</th>\n",
       "      <td>LanguageWorkedWith</td>\n",
       "    </tr>\n",
       "    <tr>\n",
       "      <th>7</th>\n",
       "      <td>LanguageDesireNextYear</td>\n",
       "    </tr>\n",
       "    <tr>\n",
       "      <th>8</th>\n",
       "      <td>DatabaseWorkedWith</td>\n",
       "    </tr>\n",
       "    <tr>\n",
       "      <th>9</th>\n",
       "      <td>DatabaseDesireNextYear</td>\n",
       "    </tr>\n",
       "    <tr>\n",
       "      <th>10</th>\n",
       "      <td>PlatformWorkedWith</td>\n",
       "    </tr>\n",
       "    <tr>\n",
       "      <th>11</th>\n",
       "      <td>PlatformDesireNextYear</td>\n",
       "    </tr>\n",
       "    <tr>\n",
       "      <th>12</th>\n",
       "      <td>WebFrameWorkedWith</td>\n",
       "    </tr>\n",
       "    <tr>\n",
       "      <th>13</th>\n",
       "      <td>WebFrameDesireNextYear</td>\n",
       "    </tr>\n",
       "    <tr>\n",
       "      <th>14</th>\n",
       "      <td>MiscTechWorkedWith</td>\n",
       "    </tr>\n",
       "    <tr>\n",
       "      <th>15</th>\n",
       "      <td>MiscTechDesireNextYear</td>\n",
       "    </tr>\n",
       "    <tr>\n",
       "      <th>16</th>\n",
       "      <td>DevEnviron</td>\n",
       "    </tr>\n",
       "    <tr>\n",
       "      <th>17</th>\n",
       "      <td>Containers</td>\n",
       "    </tr>\n",
       "    <tr>\n",
       "      <th>18</th>\n",
       "      <td>SOVisitTo</td>\n",
       "    </tr>\n",
       "    <tr>\n",
       "      <th>19</th>\n",
       "      <td>SONewContent</td>\n",
       "    </tr>\n",
       "    <tr>\n",
       "      <th>20</th>\n",
       "      <td>Gender</td>\n",
       "    </tr>\n",
       "    <tr>\n",
       "      <th>21</th>\n",
       "      <td>Sexuality</td>\n",
       "    </tr>\n",
       "    <tr>\n",
       "      <th>22</th>\n",
       "      <td>Ethnicity</td>\n",
       "    </tr>\n",
       "    <tr>\n",
       "      <th>23</th>\n",
       "      <td>master</td>\n",
       "    </tr>\n",
       "  </tbody>\n",
       "</table>\n",
       "</div>"
      ],
      "text/plain": [
       "                Table_Name\n",
       "0                 EduOther\n",
       "1                  DevType\n",
       "2                  LastInt\n",
       "3               JobFactors\n",
       "4                 WorkPlan\n",
       "5            WorkChallenge\n",
       "6       LanguageWorkedWith\n",
       "7   LanguageDesireNextYear\n",
       "8       DatabaseWorkedWith\n",
       "9   DatabaseDesireNextYear\n",
       "10      PlatformWorkedWith\n",
       "11  PlatformDesireNextYear\n",
       "12      WebFrameWorkedWith\n",
       "13  WebFrameDesireNextYear\n",
       "14      MiscTechWorkedWith\n",
       "15  MiscTechDesireNextYear\n",
       "16              DevEnviron\n",
       "17              Containers\n",
       "18               SOVisitTo\n",
       "19            SONewContent\n",
       "20                  Gender\n",
       "21               Sexuality\n",
       "22               Ethnicity\n",
       "23                  master"
      ]
     },
     "execution_count": 44,
     "metadata": {},
     "output_type": "execute_result"
    }
   ],
   "source": [
    "QUERY = \"\"\"\n",
    "SELECT name as Table_Name FROM\n",
    "sqlite_master WHERE\n",
    "type = 'table'\n",
    "\"\"\"\n",
    "\n",
    "pd.read_sql_query(QUERY,conn)"
   ]
  },
  {
   "cell_type": "markdown",
   "metadata": {},
   "source": [
    "### 5.2 Visualizations <a class=\"anchor\" id=\"chapter5.2\"></a>"
   ]
  },
  {
   "cell_type": "markdown",
   "metadata": {},
   "source": [
    "#### Box plot of \"age\""
   ]
  },
  {
   "cell_type": "code",
   "execution_count": 45,
   "metadata": {},
   "outputs": [
    {
     "data": {
      "text/plain": [
       "<function matplotlib.pyplot.show(close=None, block=None)>"
      ]
     },
     "execution_count": 45,
     "metadata": {},
     "output_type": "execute_result"
    },
    {
     "data": {
      "image/png": "[encoded data removed]",
      "text/plain": [
       "<Figure size 504x648 with 1 Axes>"
      ]
     },
     "metadata": {},
     "output_type": "display_data"
    }
   ],
   "source": [
    "# SQL Query\n",
    "Query = \"\"\"\n",
    "SELECT Age \n",
    "FROM master\n",
    "\"\"\"\n",
    "\n",
    "# Saving as pandas dataframe\n",
    "Age= pd.read_sql_query(Query, conn)\n",
    "\n",
    "# Plotting\n",
    "Age.plot(kind='box', figsize=(7, 9))\n",
    "plt.title('Box Plot of Age', fontsize = 17)\n",
    "plt.ylabel('Age', fontsize = 15)\n",
    "plt.yticks(fontsize=13)\n",
    "ax = plt.gca()\n",
    "ax.axes.xaxis.set_visible(False)\n",
    "plt.show"
   ]
  },
  {
   "cell_type": "markdown",
   "metadata": {},
   "source": [
    "#### Scatter plot of \"work week hours\" by \"age\""
   ]
  },
  {
   "cell_type": "code",
   "execution_count": 46,
   "metadata": {},
   "outputs": [
    {
     "data": {
      "text/plain": [
       "<function matplotlib.pyplot.show(close=None, block=None)>"
      ]
     },
     "execution_count": 46,
     "metadata": {},
     "output_type": "execute_result"
    },
    {
     "data": {
      "image/png": "[encoded data removed]",
      "text/plain": [
       "<Figure size 648x504 with 1 Axes>"
      ]
     },
     "metadata": {},
     "output_type": "display_data"
    }
   ],
   "source": [
    "# SQL query\n",
    "Query=\"\"\"\n",
    "SELECT Age, WorkWeekHrs\n",
    "FROM master\n",
    "\"\"\"\n",
    "\n",
    "# Saving as pandas dataframe\n",
    "Age_WorkWeekHrs=pd.read_sql_query(Query, conn)\n",
    "\n",
    "# Plotting\n",
    "Age_WorkWeekHrs.plot(kind='scatter', x=\"Age\", y=\"WorkWeekHrs\", figsize=(9, 7))\n",
    "plt.title('Scatter Plot of Work Week Hours by Age', fontsize = 17)\n",
    "plt.xlabel('Age', fontsize = 15)\n",
    "plt.ylabel('Work Week Hours', fontsize = 15)\n",
    "plt.xticks(fontsize=13)\n",
    "plt.yticks(fontsize=13)\n",
    "plt.show"
   ]
  },
  {
   "cell_type": "markdown",
   "metadata": {},
   "source": [
    "#### Bubble plot of \"code review hours\" (i.e., hours spent per week on code reviews) by work week hours using age as bubble size"
   ]
  },
  {
   "cell_type": "code",
   "execution_count": 47,
   "metadata": {},
   "outputs": [
    {
     "data": {
      "text/plain": [
       "<function matplotlib.pyplot.show(close=None, block=None)>"
      ]
     },
     "execution_count": 47,
     "metadata": {},
     "output_type": "execute_result"
    },
    {
     "data": {
      "image/png": "[encoded data removed]",
      "text/plain": [
       "<Figure size 864x432 with 1 Axes>"
      ]
     },
     "metadata": {},
     "output_type": "display_data"
    }
   ],
   "source": [
    "# SQL query\n",
    "Query=\"\"\"\n",
    "SELECT Age, CodeRevHrs, WorkWeekHrs\n",
    "FROM master\n",
    "\"\"\"\n",
    "\n",
    "# Saving as pandas dataframe\n",
    "Age_Code_Work=pd.read_sql_query(Query, conn)\n",
    "\n",
    "# Plotting\n",
    "Age_Code_Work.plot(kind='scatter', x=\"WorkWeekHrs\", y=\"CodeRevHrs\", color='darkblue', s = 'Age', figsize=(12, 6))\n",
    "plt.title('Bubble Plot of Code Review Hours by Week Hours Using Age as Bubble Size', fontsize = 17)\n",
    "plt.xlabel('Work Week Hours', fontsize = 15)\n",
    "plt.ylabel('Code Review Hours', fontsize = 15)\n",
    "plt.xticks(fontsize=13)\n",
    "plt.yticks(fontsize=13)\n",
    "plt.show"
   ]
  },
  {
   "cell_type": "markdown",
   "metadata": {},
   "source": [
    "#### Stacked chart of median \"work week hours\" and \"code review hours\" for respondents aged 30 to 35\n"
   ]
  },
  {
   "cell_type": "code",
   "execution_count": 50,
   "metadata": {},
   "outputs": [
    {
     "data": {
      "image/png": "[encoded data removed]",
      "text/plain": [
       "<Figure size 720x504 with 1 Axes>"
      ]
     },
     "metadata": {},
     "output_type": "display_data"
    }
   ],
   "source": [
    "# SQL query\n",
    "Query = \"\"\"\n",
    "SELECT Avg(WorkWeekHrs) as WorkWeekHrs_median, Avg(CodeRevHrs) as CodeRevHrs_median, Age \n",
    "FROM master \n",
    "where Age between 30 and 35\n",
    "group by Age\n",
    "\"\"\"\n",
    "\n",
    "# Saving as pandas dataframe\n",
    "median_hours = pd.read_sql_query(Query, conn)\n",
    "median_hours.rename(columns={'WorkWeekHrs_median':'Median Work Week Hours','CodeRevHrs_median':'Median Code Review Hours'}, inplace = True) # Renaming columns\n",
    "median_hours['Age'] = median_hours['Age'].astype(int) # Converting 'age' from float to integer\n",
    "median_hours.set_index('Age', inplace=True) # Setting age as the index\n",
    "\n",
    "# Plotting\n",
    "ax = median_hours.plot(kind='barh', stacked = True, figsize =(10,7))\n",
    "\n",
    "# Plotting: Showing values inside bars\n",
    "for rect in ax.patches:\n",
    "    height = rect.get_height()\n",
    "    width = rect.get_width()\n",
    "    x = rect.get_x()\n",
    "    y = rect.get_y()\n",
    "    \n",
    "    # The width of the bar is the data value and is used as the label\n",
    "    label_text = f'{width:.1f}'  # Format to 1 dp\n",
    "    \n",
    "    # ax.text(x, y, text)\n",
    "    label_x = x + width / 2\n",
    "    label_y = y + height / 2\n",
    "    \n",
    "    # Show if width is greater than zero\n",
    "    if width > 0:\n",
    "        ax.text(label_x, label_y, label_text, ha='center', va='center', fontsize=11)\n",
    "\n",
    "plt.title('Median Work Week and Code Review Hours for Respondents Aged 30-35', fontsize = 16)\n",
    "plt.xlabel('Median Work Week and Code Review Hours', fontsize = 15)\n",
    "plt.ylabel('Age', fontsize = 15)\n",
    "plt.xticks(fontsize=13)\n",
    "plt.yticks(fontsize=13)\n",
    "plt.legend(bbox_to_anchor=(1.03, 1.))\n",
    "plt.show()"
   ]
  },
  {
   "cell_type": "markdown",
   "metadata": {},
   "source": [
    "#### Bar chart of the ***top 5 most used languages*** in 2019"
   ]
  },
  {
   "cell_type": "code",
   "execution_count": 51,
   "metadata": {},
   "outputs": [
    {
     "data": {
      "text/plain": [
       "(array([0, 1, 2, 3, 4]),\n",
       " [Text(0, 0, 'Python'),\n",
       "  Text(0, 1, 'Bash/Shell/PowerShell'),\n",
       "  Text(0, 2, 'SQL'),\n",
       "  Text(0, 3, 'HTML/CSS'),\n",
       "  Text(0, 4, 'JavaScript')])"
      ]
     },
     "execution_count": 51,
     "metadata": {},
     "output_type": "execute_result"
    },
    {
     "data": {
      "image/png": "[encoded data removed]",
      "text/plain": [
       "<Figure size 648x648 with 1 Axes>"
      ]
     },
     "metadata": {},
     "output_type": "display_data"
    }
   ],
   "source": [
    "# SQL query\n",
    "QUERY = \"\"\"\n",
    "SELECT LanguageWorkedWith, count(*) as Count\n",
    "FROM LanguageWorkedWith\n",
    "group by LanguageWorkedWith\n",
    "order by count desc Limit 5\n",
    "\"\"\"\n",
    "\n",
    "# Saving as pandas dataframe\n",
    "Language = pd.read_sql_query(QUERY,conn)\n",
    "\n",
    "# Plotting\n",
    "Language.set_index('LanguageWorkedWith', inplace = True)\n",
    "Language = Language.sort_values(\"Count\", axis = 0, ascending = True)\n",
    "ax = Language.plot(kind='barh', legend = None, edgecolor='black', linewidth=1, figsize = (9, 9))\n",
    "\n",
    "# Plotting: Showing values inside bars\n",
    "for rect in ax.patches:\n",
    "    height = rect.get_height()\n",
    "    width = rect.get_width()\n",
    "    x = rect.get_x()\n",
    "    y = rect.get_y()\n",
    "    \n",
    "    # The width of the bar is the data value and is used as the label\n",
    "    label_text = f'{width:,}'\n",
    "    \n",
    "    # ax.text(x, y, text)\n",
    "    label_x = x + width / 2\n",
    "    label_y = y + height / 2\n",
    "    ax.text(label_x, label_y, label_text, ha='center', va='center', fontsize=12)\n",
    "        \n",
    "plt.title('Top 5 Most Popular Languages in 2019', fontsize = 18)\n",
    "plt.xlabel('Respondent Count', fontsize = 15)\n",
    "plt.ylabel('Language', fontsize = 15)\n",
    "plt.xticks(fontsize=12)\n",
    "plt.yticks(fontsize=12)"
   ]
  },
  {
   "cell_type": "markdown",
   "metadata": {},
   "source": [
    "#### Bar chart of the ***top 5 most trending languages*** in 2019"
   ]
  },
  {
   "cell_type": "code",
   "execution_count": 52,
   "metadata": {},
   "outputs": [
    {
     "data": {
      "text/plain": [
       "(array([0, 1, 2, 3, 4]),\n",
       " [Text(0, 0, 'TypeScript'),\n",
       "  Text(0, 1, 'SQL'),\n",
       "  Text(0, 2, 'Python'),\n",
       "  Text(0, 3, 'HTML/CSS'),\n",
       "  Text(0, 4, 'JavaScript')])"
      ]
     },
     "execution_count": 52,
     "metadata": {},
     "output_type": "execute_result"
    },
    {
     "data": {
      "image/png": "[encoded data removed]",
      "text/plain": [
       "<Figure size 648x648 with 1 Axes>"
      ]
     },
     "metadata": {},
     "output_type": "display_data"
    }
   ],
   "source": [
    "# SQL query\n",
    "QUERY = \"\"\"\n",
    "SELECT LanguageDesireNextYear, count(*) as Count\n",
    "FROM LanguageDesireNextYear\n",
    "group by LanguageDesireNextYear\n",
    "order by count desc Limit 5\n",
    "\"\"\"\n",
    "\n",
    "# Saving as pandas dataframe\n",
    "LanguageDesire = pd.read_sql_query(QUERY,conn)\n",
    "\n",
    "# Plotting\n",
    "LanguageDesire.set_index('LanguageDesireNextYear', inplace = True)\n",
    "LanguageDesire = LanguageDesire.sort_values(\"Count\", axis = 0, ascending = True)\n",
    "ax = LanguageDesire.plot(kind='barh', legend = None, edgecolor='black', linewidth=1, figsize = (9, 9), color = 'steelblue')\n",
    "\n",
    "# Plotting: Showing values inside bars\n",
    "for rect in ax.patches:\n",
    "    height = rect.get_height()\n",
    "    width = rect.get_width()\n",
    "    x = rect.get_x()\n",
    "    y = rect.get_y()\n",
    "    \n",
    "    # The width of the bar is the data value and is used as the label\n",
    "    label_text = f'{width:,}'\n",
    "    \n",
    "    # ax.text(x, y, text)\n",
    "    label_x = x + width / 2\n",
    "    label_y = y + height / 2\n",
    "    ax.text(label_x, label_y, label_text, ha='center', va='center', fontsize=12)      \n",
    "\n",
    "plt.title('Top 5 Most Desired Languages For the Next Year', fontsize = 18)\n",
    "plt.xlabel('Respondent Count', fontsize = 15)\n",
    "plt.ylabel('Language', fontsize = 15)\n",
    "plt.xticks(fontsize=12)\n",
    "plt.yticks(fontsize=12)"
   ]
  },
  {
   "cell_type": "markdown",
   "metadata": {},
   "source": [
    "#### Bar chart of the ***top 5 most used databases*** in 2019"
   ]
  },
  {
   "cell_type": "code",
   "execution_count": 53,
   "metadata": {},
   "outputs": [
    {
     "data": {
      "text/plain": [
       "(array([0, 1, 2, 3, 4]),\n",
       " [Text(0, 0, 'MongoDB'),\n",
       "  Text(0, 1, 'SQLite'),\n",
       "  Text(0, 2, 'PostgreSQL'),\n",
       "  Text(0, 3, 'Microsoft SQL Server'),\n",
       "  Text(0, 4, 'MySQL')])"
      ]
     },
     "execution_count": 53,
     "metadata": {},
     "output_type": "execute_result"
    },
    {
     "data": {
      "image/png": "[encoded data removed]",
      "text/plain": [
       "<Figure size 648x648 with 1 Axes>"
      ]
     },
     "metadata": {},
     "output_type": "display_data"
    }
   ],
   "source": [
    "# SQL query\n",
    "QUERY = \"\"\"\n",
    "SELECT DatabaseWorkedWith, count(*) as Count\n",
    "FROM DatabaseWorkedWith\n",
    "group by DatabaseWorkedWith\n",
    "order by count desc Limit 5\n",
    "\"\"\"\n",
    "\n",
    "# Saving as pandas dataframe\n",
    "Database = pd.read_sql_query(QUERY,conn)\n",
    "\n",
    "# Plotting\n",
    "Database.set_index('DatabaseWorkedWith', inplace = True)\n",
    "Database = Database.sort_values(\"Count\", axis = 0, ascending = True)\n",
    "ax = Database.plot(kind='barh', legend = None, edgecolor='black', linewidth=1, figsize = (9, 9))\n",
    "\n",
    "# Plotting: Showing values inside bars\n",
    "for rect in ax.patches:\n",
    "    height = rect.get_height()\n",
    "    width = rect.get_width()\n",
    "    x = rect.get_x()\n",
    "    y = rect.get_y()\n",
    "    \n",
    "    # The width of the bar is the data value and is used as the label\n",
    "    label_text = f'{width:,}'\n",
    "    \n",
    "    # ax.text(x, y, text)\n",
    "    label_x = x + width / 2\n",
    "    label_y = y + height / 2\n",
    "    ax.text(label_x, label_y, label_text, ha='center', va='center', fontsize=12)  \n",
    "\n",
    "plt.title('Top 5 Most Popular Databases in 2019', fontsize = 18)\n",
    "plt.xlabel('Respondent Count', fontsize = 15)\n",
    "plt.ylabel('Database', fontsize = 15)\n",
    "plt.xticks(fontsize=12)\n",
    "plt.yticks(fontsize=12)"
   ]
  },
  {
   "cell_type": "markdown",
   "metadata": {},
   "source": [
    "#### Bar chart of the ***top 5 most trending databases*** in 2019"
   ]
  },
  {
   "cell_type": "code",
   "execution_count": 54,
   "metadata": {},
   "outputs": [
    {
     "data": {
      "text/plain": [
       "(array([0, 1, 2, 3, 4]),\n",
       " [Text(0, 0, 'Elasticsearch'),\n",
       "  Text(0, 1, 'MySQL'),\n",
       "  Text(0, 2, 'Redis'),\n",
       "  Text(0, 3, 'MongoDB'),\n",
       "  Text(0, 4, 'PostgreSQL')])"
      ]
     },
     "execution_count": 54,
     "metadata": {},
     "output_type": "execute_result"
    },
    {
     "data": {
      "image/png": "[encoded data removed]",
      "text/plain": [
       "<Figure size 648x648 with 1 Axes>"
      ]
     },
     "metadata": {},
     "output_type": "display_data"
    }
   ],
   "source": [
    "# SQL query\n",
    "QUERY = \"\"\"\n",
    "SELECT DatabaseDesireNextYear, count(*) as Count\n",
    "FROM DatabaseDesireNextYear\n",
    "group by DatabaseDesireNextYear\n",
    "order by count desc Limit 5\n",
    "\"\"\"\n",
    "\n",
    "# Saving as pandas dataframe\n",
    "DatabaseDesire = pd.read_sql_query(QUERY,conn)\n",
    "\n",
    "# Plotting\n",
    "DatabaseDesire.set_index('DatabaseDesireNextYear', inplace = True)\n",
    "DatabaseDesire = DatabaseDesire.sort_values(\"Count\", axis = 0, ascending = True)\n",
    "ax = DatabaseDesire.plot(kind='barh', legend = None, edgecolor='black', linewidth=1, figsize = (9, 9), color = 'steelblue')\n",
    "\n",
    "# Plotting: Showing values inside bars\n",
    "for rect in ax.patches:\n",
    "    height = rect.get_height()\n",
    "    width = rect.get_width()\n",
    "    x = rect.get_x()\n",
    "    y = rect.get_y()\n",
    "    \n",
    "    # The width of the bar is the data value and is used as the label\n",
    "    label_text = f'{width:,}'\n",
    "    \n",
    "    # ax.text(x, y, text)\n",
    "    label_x = x + width / 2\n",
    "    label_y = y + height / 2\n",
    "    ax.text(label_x, label_y, label_text, ha='center', va='center', fontsize=12) \n",
    "\n",
    "plt.title('Top 5 Most Desired Databases For the Next Year', fontsize = 18)\n",
    "plt.xlabel('Respondent Count', fontsize = 15)\n",
    "plt.ylabel('Database', fontsize = 15)\n",
    "plt.xticks(fontsize=12)\n",
    "plt.yticks(fontsize=12)"
   ]
  },
  {
   "cell_type": "markdown",
   "metadata": {},
   "source": [
    "#### Same as above (i.e., top 5 most trending databases in 2019) but as a pie chart"
   ]
  },
  {
   "cell_type": "code",
   "execution_count": 55,
   "metadata": {},
   "outputs": [
    {
     "data": {
      "text/plain": [
       "([<matplotlib.patches.Wedge at 0x1d35e65d3a0>,\n",
       "  <matplotlib.patches.Wedge at 0x1d35e65dd00>,\n",
       "  <matplotlib.patches.Wedge at 0x1d35e652340>,\n",
       "  <matplotlib.patches.Wedge at 0x1d35e652be0>,\n",
       "  <matplotlib.patches.Wedge at 0x1d35e652790>],\n",
       " [Text(1.56492188720591, 1.5462921738610378, 'PostgreSQL'),\n",
       "  Text(-1.322911707608751, 1.7578124512790603, 'MongoDB'),\n",
       "  Text(-2.080323551695665, -0.7157191629824745, 'Redis'),\n",
       "  Text(-0.10712667302019274, -2.197390242066171, 'MySQL'),\n",
       "  Text(1.915375559793783, -1.0822829874596818, 'Elasticsearch')],\n",
       " [Text(0.853593756657769, 0.8434320948332933, '24.8%'),\n",
       "  Text(-0.7215882041502277, 0.9588067916067601, '20.9%'),\n",
       "  Text(-1.1347219372885444, -0.3903922707177134, '19.1%'),\n",
       "  Text(-0.05843273073828694, -1.1985764956724567, '18.8%'),\n",
       "  Text(1.0447503053420633, -0.5903361749780082, '16.4%')])"
      ]
     },
     "execution_count": 55,
     "metadata": {},
     "output_type": "execute_result"
    },
    {
     "data": {
      "image/png": "[encoded data removed]",
      "text/plain": [
       "<Figure size 432x288 with 1 Axes>"
      ]
     },
     "metadata": {},
     "output_type": "display_data"
    }
   ],
   "source": [
    "# SQL query\n",
    "Query=\"\"\"\n",
    "SELECT DatabaseDesireNextYear, count(*) as count\n",
    "FROM DatabaseDesireNextYear\n",
    "group by DatabaseDesireNextYear\n",
    "order by count desc limit 5\n",
    "\"\"\"\n",
    "\n",
    "# Saving as pandas dataframe\n",
    "DatabaseDesireNextYear= pd.read_sql_query(Query, conn)\n",
    "\n",
    "# Plotting\n",
    "x = DatabaseDesireNextYear['count']\n",
    "label = DatabaseDesireNextYear['DatabaseDesireNextYear']\n",
    "plt.pie(x, labels=label, autopct='%1.1f%%',radius=2)"
   ]
  },
  {
   "cell_type": "markdown",
   "metadata": {},
   "source": [
    "Closing the connection"
   ]
  },
  {
   "cell_type": "code",
   "execution_count": 56,
   "metadata": {},
   "outputs": [],
   "source": [
    "conn.close()"
   ]
  },
  {
   "cell_type": "markdown",
   "metadata": {},
   "source": [
    "### 5.3 Dashboard Using *IBM Cognos* <a class=\"anchor\" id=\"chapter5.3\"></a>"
   ]
  },
  {
   "cell_type": "markdown",
   "metadata": {},
   "source": [
    "I also used *IBM Cognos* to create an interactive dashboard summarizing (a) current technology use, (b) future technology trend, and (c) demographics of the survey respondents.\n",
    "\n",
    "Link to the Cognos dashboard: [Summary Dashboard](https://eu-gb.dataplatform.cloud.ibm.com/dashboards/171ae20c-d010-40b8-8837-c0da7850a86b/view/0509dd3d6e9437df42b4f2e407c87f052c662c0fb4bb8305d1d07b490e337197f06c1490c87e4f0f8f430c30a6be440ac9 \"Summary Dashboard\")"
   ]
  },
  {
   "cell_type": "markdown",
   "metadata": {},
   "source": [
    "## 6. Analysis and Visualizations III: Data from Sources Other than the Stack Overflow Developer Survey <a class=\"anchor\" id=\"chapter6\"></a>\n"
   ]
  },
  {
   "cell_type": "markdown",
   "metadata": {},
   "source": [
    "In addition to the above, I created two additional visualizations using data from outside of the Stack Overflow Developer Survey. \n",
    "\n",
    "First, I collected current job data using the GitHub Jobs API, then plotted the number of job listings for a selection of popular programming languages.\n",
    "\n",
    "Second, I plotted the average annual salaries for selected popular programming languages using data scraped from a webpage provided by IBM."
   ]
  },
  {
   "cell_type": "markdown",
   "metadata": {
    "id": "GUivAJoz0u5X"
   },
   "source": [
    "### 6.1 Job Data Collected Using the *GitHub Jobs* API <a class=\"anchor\" id=\"chapter6.1\"></a>"
   ]
  },
  {
   "cell_type": "markdown",
   "metadata": {
    "id": "uQe2G7gx0u5l"
   },
   "source": [
    "I collected the number of job postings for the following languages using the Github Jobs API:\n",
    "\n",
    "-   C\n",
    "-   C#\n",
    "-   C++\n",
    "-   Java\n",
    "-   JavaScript\n",
    "-   Python\n",
    "-   Scala\n",
    "-   Oracle\n",
    "-   SQL Server\n",
    "-   MySQL Server\n",
    "-   PostgreSQL\n",
    "-   MongoDB\n"
   ]
  },
  {
   "cell_type": "code",
   "execution_count": 57,
   "metadata": {
    "id": "m5-QSI-T0u5m"
   },
   "outputs": [],
   "source": [
    "import requests\n",
    "baseurl = \"https://jobs.github.com/positions.json\""
   ]
  },
  {
   "cell_type": "markdown",
   "metadata": {
    "id": "vAywrq5V0u5m"
   },
   "source": [
    "I then wrote a function to get the number of jobs for the given technology:<br>\n",
    "_Note:_ The API gives a maximum of 50 jobs per page.<br>"
   ]
  },
  {
   "cell_type": "code",
   "execution_count": 58,
   "metadata": {
    "id": "vLTbD_SJ0u5m"
   },
   "outputs": [],
   "source": [
    "def get_number_of_jobs(technology):\n",
    "    number_of_jobs = 0\n",
    "    page=1\n",
    "    new_results=1\n",
    "    #your code goes here\n",
    "    while new_results>0:\n",
    "        payload={\"description\":technology,\"page\":page}\n",
    "        r=requests.get(baseurl,payload)\n",
    "        new_results =len(r.json())\n",
    "        page+=1\n",
    "        number_of_jobs+=(len(r.json()))\n",
    "    \n",
    "    return technology,number_of_jobs"
   ]
  },
  {
   "cell_type": "markdown",
   "metadata": {
    "id": "-CRRnj6M0u5n"
   },
   "source": [
    "Calling the function for Python to confirm that it is working:"
   ]
  },
  {
   "cell_type": "code",
   "execution_count": 60,
   "metadata": {
    "id": "5qUIYPWY0u5n",
    "outputId": "5626d403-1565-43e2-b661-8ce84d7721eb"
   },
   "outputs": [
    {
     "name": "stdout",
     "output_type": "stream",
     "text": [
      "('python', 44)\n"
     ]
    }
   ],
   "source": [
    "print(get_number_of_jobs('python'))"
   ]
  },
  {
   "cell_type": "markdown",
   "metadata": {
    "id": "3hp45AjV0u5o"
   },
   "source": [
    "#### Storing the results in an excel file\n"
   ]
  },
  {
   "cell_type": "markdown",
   "metadata": {
    "id": "IVpaE2ut0u5p"
   },
   "source": [
    "Creating a python list of all selected technologies:"
   ]
  },
  {
   "cell_type": "code",
   "execution_count": 61,
   "metadata": {
    "id": "4LGVYYgD0u5p"
   },
   "outputs": [],
   "source": [
    "jobs=[\"C\",\"C#\",\"C++\",\"Java\",\"JavaScript\",\"Python\",\"Scala\",\"Oracle\",\"SQL Server\",\"MySQL Server\",\"PostgreSQL\",\"MongoDB\", \"Tableau\", \"Power BI\", \"Azure\", \"AWS\", \"Excel\"]"
   ]
  },
  {
   "cell_type": "markdown",
   "metadata": {
    "id": "sao9GgW60u5q"
   },
   "source": [
    "Importing libraries required to create excel spreadsheet:"
   ]
  },
  {
   "cell_type": "code",
   "execution_count": 62,
   "metadata": {
    "id": "QXtZJ4J_0u5q"
   },
   "outputs": [],
   "source": [
    "from openpyxl import Workbook"
   ]
  },
  {
   "cell_type": "markdown",
   "metadata": {
    "id": "jxFIEgof0u5q"
   },
   "source": [
    "Creating a workbook and selecting the active worksheet:"
   ]
  },
  {
   "cell_type": "code",
   "execution_count": 63,
   "metadata": {
    "id": "J7eNnhOb0u5r"
   },
   "outputs": [],
   "source": [
    "wb=Workbook()\n",
    "ws=wb.active "
   ]
  },
  {
   "cell_type": "markdown",
   "metadata": {
    "id": "4UAK39xQ0u5r"
   },
   "source": [
    "Finding the number of jobs postings for each of the technology in the above list and appending them to the excel worksheet:\n"
   ]
  },
  {
   "cell_type": "code",
   "execution_count": null,
   "metadata": {
    "id": "dOZe19dk0u5r"
   },
   "outputs": [],
   "source": [
    "for i in jobs:\n",
    "    ws.append(get_number_of_jobs(i))"
   ]
  },
  {
   "cell_type": "markdown",
   "metadata": {
    "id": "PyzktcMK0u5s"
   },
   "source": [
    "Saving into an excel spreadsheet named 'github-job-postings.xlsx':\n"
   ]
  },
  {
   "cell_type": "code",
   "execution_count": null,
   "metadata": {
    "id": "qk-BE05I0u5t"
   },
   "outputs": [],
   "source": [
    "wb.save(\"github_jobs.xlsx\") "
   ]
  },
  {
   "cell_type": "markdown",
   "metadata": {
    "id": "PyzktcMK0u5s"
   },
   "source": [
    "Saving into a pandas dataframe:\n"
   ]
  },
  {
   "cell_type": "code",
   "execution_count": 64,
   "metadata": {
    "id": "yr_W7OUy0u5t",
    "outputId": "527d13df-13f1-4b9e-cf12-c4e8c7e92976"
   },
   "outputs": [
    {
     "data": {
      "text/html": [
       "<div>\n",
       "<style scoped>\n",
       "    .dataframe tbody tr th:only-of-type {\n",
       "        vertical-align: middle;\n",
       "    }\n",
       "\n",
       "    .dataframe tbody tr th {\n",
       "        vertical-align: top;\n",
       "    }\n",
       "\n",
       "    .dataframe thead th {\n",
       "        text-align: right;\n",
       "    }\n",
       "</style>\n",
       "<table border=\"1\" class=\"dataframe\">\n",
       "  <thead>\n",
       "    <tr style=\"text-align: right;\">\n",
       "      <th></th>\n",
       "      <th>Count</th>\n",
       "    </tr>\n",
       "    <tr>\n",
       "      <th>Language</th>\n",
       "      <th></th>\n",
       "    </tr>\n",
       "  </thead>\n",
       "  <tbody>\n",
       "    <tr>\n",
       "      <th>Tableau</th>\n",
       "      <td>0</td>\n",
       "    </tr>\n",
       "    <tr>\n",
       "      <th>MongoDB</th>\n",
       "      <td>7</td>\n",
       "    </tr>\n",
       "    <tr>\n",
       "      <th>MySQL Server</th>\n",
       "      <td>8</td>\n",
       "    </tr>\n",
       "    <tr>\n",
       "      <th>Oracle</th>\n",
       "      <td>9</td>\n",
       "    </tr>\n",
       "    <tr>\n",
       "      <th>PostgreSQL</th>\n",
       "      <td>12</td>\n",
       "    </tr>\n",
       "  </tbody>\n",
       "</table>\n",
       "</div>"
      ],
      "text/plain": [
       "              Count\n",
       "Language           \n",
       "Tableau           0\n",
       "MongoDB           7\n",
       "MySQL Server      8\n",
       "Oracle            9\n",
       "PostgreSQL       12"
      ]
     },
     "execution_count": 64,
     "metadata": {},
     "output_type": "execute_result"
    }
   ],
   "source": [
    "df = pd.read_excel(\"github_jobs.xlsx\")\n",
    "df.set_index('Language', inplace = True)\n",
    "df = df.sort_values(\"Count\", axis = 0, ascending = True)\n",
    "df.head()"
   ]
  },
  {
   "cell_type": "markdown",
   "metadata": {},
   "source": [
    "#### Bar chart of GitHub job postings for the selected technologies"
   ]
  },
  {
   "cell_type": "code",
   "execution_count": 65,
   "metadata": {
    "id": "dFbmgBAR0u5w",
    "outputId": "a2e4a940-8ce2-4dfd-e02a-d58cdfd5e74a"
   },
   "outputs": [
    {
     "data": {
      "text/plain": [
       "(array([ 0,  1,  2,  3,  4,  5,  6,  7,  8,  9, 10, 11, 12, 13, 14, 15, 16]),\n",
       " [Text(0, 0, 'Tableau'),\n",
       "  Text(0, 1, 'MongoDB'),\n",
       "  Text(0, 2, 'MySQL Server'),\n",
       "  Text(0, 3, 'Oracle'),\n",
       "  Text(0, 4, 'PostgreSQL'),\n",
       "  Text(0, 5, 'SQL Server'),\n",
       "  Text(0, 6, 'C++'),\n",
       "  Text(0, 7, 'C#'),\n",
       "  Text(0, 8, 'Azure'),\n",
       "  Text(0, 9, 'Scala'),\n",
       "  Text(0, 10, 'Power BI'),\n",
       "  Text(0, 11, 'Python'),\n",
       "  Text(0, 12, 'AWS'),\n",
       "  Text(0, 13, 'Excel'),\n",
       "  Text(0, 14, 'JavaScript'),\n",
       "  Text(0, 15, 'Java'),\n",
       "  Text(0, 16, 'C')])"
      ]
     },
     "execution_count": 65,
     "metadata": {},
     "output_type": "execute_result"
    },
    {
     "data": {
      "image/png": "[encoded data removed]",
      "text/plain": [
       "<Figure size 1440x576 with 1 Axes>"
      ]
     },
     "metadata": {},
     "output_type": "display_data"
    }
   ],
   "source": [
    "df.plot(kind='barh', legend = None, edgecolor='black', linewidth=1, figsize = (20, 8))\n",
    "plt.title('GitHub Job Postings for Selected Technologies', fontsize = 18)\n",
    "plt.xlabel('Number of Jobs', fontsize = 15)\n",
    "plt.ylabel('Technology', fontsize = 15)\n",
    "plt.xticks(fontsize=12)\n",
    "plt.yticks(fontsize=12)"
   ]
  },
  {
   "cell_type": "markdown",
   "metadata": {
    "id": "TpiJhL2wArh4"
   },
   "source": [
    "### 6.2 Webscraping Popular Languages and Respective Salary Data <a class=\"anchor\" id=\"chapter6.2\"></a>"
   ]
  },
  {
   "cell_type": "markdown",
   "metadata": {
    "id": "5eiZ8Tpy9iUh"
   },
   "source": [
    "I extracted data from the following web page provided by IBM:"
   ]
  },
  {
   "cell_type": "code",
   "execution_count": 66,
   "metadata": {
    "id": "wC57XwGs9iUh"
   },
   "outputs": [],
   "source": [
    "url = \"https://cf-courses-data.s3.us.cloud-object-storage.appdomain.cloud/IBM-DA0321EN-SkillsNetwork/labs/datasets/Programming_Languages.html\""
   ]
  },
  {
   "cell_type": "markdown",
   "metadata": {
    "id": "NDdFe1lI9iUi"
   },
   "source": [
    "Specifically, I scraped the **name of the programming language** and **average annual salary**.\n"
   ]
  },
  {
   "cell_type": "markdown",
   "metadata": {
    "id": "74uFY5rv9iUi"
   },
   "source": [
    "Importing the required libraries:\n"
   ]
  },
  {
   "cell_type": "code",
   "execution_count": 67,
   "metadata": {
    "id": "cLWyDrHi9iUi"
   },
   "outputs": [],
   "source": [
    "from bs4 import BeautifulSoup # this module helps in web scrapping.\n",
    "import requests  # this module helps us to download a web page"
   ]
  },
  {
   "cell_type": "markdown",
   "metadata": {
    "id": "7ODhrspo9iUj"
   },
   "source": [
    "Downloading the webpage at the url:\n"
   ]
  },
  {
   "cell_type": "code",
   "execution_count": 68,
   "metadata": {
    "id": "M2Z9uXMw9iUj"
   },
   "outputs": [],
   "source": [
    "data  = requests.get(url).text "
   ]
  },
  {
   "cell_type": "markdown",
   "metadata": {
    "id": "lzmABNPv9iUj"
   },
   "source": [
    "Creating a soup object:\n"
   ]
  },
  {
   "cell_type": "code",
   "execution_count": 69,
   "metadata": {
    "id": "z4w-IYxK9iUj"
   },
   "outputs": [],
   "source": [
    "soup = BeautifulSoup(data,\"html5lib\") "
   ]
  },
  {
   "cell_type": "markdown",
   "metadata": {
    "id": "tLfMnGZw9iUk"
   },
   "source": [
    "Scraping the `Language name` and `annual average salary`:\n"
   ]
  },
  {
   "cell_type": "code",
   "execution_count": 70,
   "metadata": {
    "id": "wU_5q3Ql9iUk",
    "outputId": "0866d59d-40d6-48a6-e4a6-7695dffb77af"
   },
   "outputs": [
    {
     "name": "stdout",
     "output_type": "stream",
     "text": [
      "Language--->Average Annual Salary\n",
      "Python--->$114,383\n",
      "Java--->$101,013\n",
      "R--->$92,037\n",
      "Javascript--->$110,981\n",
      "Swift--->$130,801\n",
      "C++--->$113,865\n",
      "C#--->$88,726\n",
      "PHP--->$84,727\n",
      "SQL--->$84,793\n",
      "Go--->$94,082\n"
     ]
    }
   ],
   "source": [
    "table = soup.find('table')\n",
    "for row in table.find_all('tr'): # in html table row is represented by the tag <tr>\n",
    "    # Get all columns in each row.\n",
    "    cols = row.find_all('td') # in html a column is represented by the tag <td>\n",
    "    language = cols[1].getText() \n",
    "    salary = cols[3].getText()\n",
    "    print(\"{}--->{}\".format(language,salary))"
   ]
  },
  {
   "cell_type": "markdown",
   "metadata": {
    "id": "ECBy2Eel9iUl"
   },
   "source": [
    "Saving the scrapped data into a file named _popular-languages.csv_:\n"
   ]
  },
  {
   "cell_type": "code",
   "execution_count": 71,
   "metadata": {
    "id": "mG2xzyyc9iUm"
   },
   "outputs": [
    {
     "data": {
      "text/html": [
       "<div>\n",
       "<style scoped>\n",
       "    .dataframe tbody tr th:only-of-type {\n",
       "        vertical-align: middle;\n",
       "    }\n",
       "\n",
       "    .dataframe tbody tr th {\n",
       "        vertical-align: top;\n",
       "    }\n",
       "\n",
       "    .dataframe thead th {\n",
       "        text-align: right;\n",
       "    }\n",
       "</style>\n",
       "<table border=\"1\" class=\"dataframe\">\n",
       "  <thead>\n",
       "    <tr style=\"text-align: right;\">\n",
       "      <th></th>\n",
       "      <th>Average Annual Salary</th>\n",
       "    </tr>\n",
       "    <tr>\n",
       "      <th>Language</th>\n",
       "      <th></th>\n",
       "    </tr>\n",
       "  </thead>\n",
       "  <tbody>\n",
       "    <tr>\n",
       "      <th>Python</th>\n",
       "      <td>$114,383</td>\n",
       "    </tr>\n",
       "    <tr>\n",
       "      <th>Java</th>\n",
       "      <td>$101,013</td>\n",
       "    </tr>\n",
       "    <tr>\n",
       "      <th>R</th>\n",
       "      <td>$92,037</td>\n",
       "    </tr>\n",
       "    <tr>\n",
       "      <th>Javascript</th>\n",
       "      <td>$110,981</td>\n",
       "    </tr>\n",
       "    <tr>\n",
       "      <th>Swift</th>\n",
       "      <td>$130,801</td>\n",
       "    </tr>\n",
       "    <tr>\n",
       "      <th>C++</th>\n",
       "      <td>$113,865</td>\n",
       "    </tr>\n",
       "    <tr>\n",
       "      <th>C#</th>\n",
       "      <td>$88,726</td>\n",
       "    </tr>\n",
       "    <tr>\n",
       "      <th>PHP</th>\n",
       "      <td>$84,727</td>\n",
       "    </tr>\n",
       "    <tr>\n",
       "      <th>SQL</th>\n",
       "      <td>$84,793</td>\n",
       "    </tr>\n",
       "    <tr>\n",
       "      <th>Go</th>\n",
       "      <td>$94,082</td>\n",
       "    </tr>\n",
       "  </tbody>\n",
       "</table>\n",
       "</div>"
      ],
      "text/plain": [
       "           Average Annual Salary\n",
       "Language                        \n",
       "Python                  $114,383\n",
       "Java                    $101,013\n",
       "R                        $92,037\n",
       "Javascript              $110,981\n",
       "Swift                   $130,801\n",
       "C++                     $113,865\n",
       "C#                       $88,726\n",
       "PHP                      $84,727\n",
       "SQL                      $84,793\n",
       "Go                       $94,082"
      ]
     },
     "execution_count": 71,
     "metadata": {},
     "output_type": "execute_result"
    }
   ],
   "source": [
    "l = []\n",
    "for row in table.find_all('tr'): # in html table row is represented by the tag <tr>\n",
    "    # Getting all columns in each row.\n",
    "    cols = row.find_all('td') # in html a column is represented by the tag <td>\n",
    "    language = cols[1].getText() \n",
    "    salary = cols[3].getText()\n",
    "    l.append([language, salary])\n",
    "    \n",
    "df = pd.DataFrame(l[1:], columns = [\"Language\", \"Average Annual Salary\"])\n",
    "df.set_index('Language', inplace = True)\n",
    "df"
   ]
  },
  {
   "cell_type": "code",
   "execution_count": 72,
   "metadata": {
    "id": "_wjGCxZv9iUn",
    "outputId": "c835992d-7dd4-4762-a660-e41cb7b66111"
   },
   "outputs": [
    {
     "data": {
      "text/html": [
       "<div>\n",
       "<style scoped>\n",
       "    .dataframe tbody tr th:only-of-type {\n",
       "        vertical-align: middle;\n",
       "    }\n",
       "\n",
       "    .dataframe tbody tr th {\n",
       "        vertical-align: top;\n",
       "    }\n",
       "\n",
       "    .dataframe thead th {\n",
       "        text-align: right;\n",
       "    }\n",
       "</style>\n",
       "<table border=\"1\" class=\"dataframe\">\n",
       "  <thead>\n",
       "    <tr style=\"text-align: right;\">\n",
       "      <th></th>\n",
       "      <th>Average Annual Salary</th>\n",
       "    </tr>\n",
       "    <tr>\n",
       "      <th>Language</th>\n",
       "      <th></th>\n",
       "    </tr>\n",
       "  </thead>\n",
       "  <tbody>\n",
       "    <tr>\n",
       "      <th>Swift</th>\n",
       "      <td>130801</td>\n",
       "    </tr>\n",
       "    <tr>\n",
       "      <th>Python</th>\n",
       "      <td>114383</td>\n",
       "    </tr>\n",
       "    <tr>\n",
       "      <th>C++</th>\n",
       "      <td>113865</td>\n",
       "    </tr>\n",
       "    <tr>\n",
       "      <th>Javascript</th>\n",
       "      <td>110981</td>\n",
       "    </tr>\n",
       "    <tr>\n",
       "      <th>Java</th>\n",
       "      <td>101013</td>\n",
       "    </tr>\n",
       "    <tr>\n",
       "      <th>Go</th>\n",
       "      <td>94082</td>\n",
       "    </tr>\n",
       "    <tr>\n",
       "      <th>R</th>\n",
       "      <td>92037</td>\n",
       "    </tr>\n",
       "    <tr>\n",
       "      <th>C#</th>\n",
       "      <td>88726</td>\n",
       "    </tr>\n",
       "    <tr>\n",
       "      <th>SQL</th>\n",
       "      <td>84793</td>\n",
       "    </tr>\n",
       "    <tr>\n",
       "      <th>PHP</th>\n",
       "      <td>84727</td>\n",
       "    </tr>\n",
       "  </tbody>\n",
       "</table>\n",
       "</div>"
      ],
      "text/plain": [
       "            Average Annual Salary\n",
       "Language                         \n",
       "Swift                      130801\n",
       "Python                     114383\n",
       "C++                        113865\n",
       "Javascript                 110981\n",
       "Java                       101013\n",
       "Go                          94082\n",
       "R                           92037\n",
       "C#                          88726\n",
       "SQL                         84793\n",
       "PHP                         84727"
      ]
     },
     "execution_count": 72,
     "metadata": {},
     "output_type": "execute_result"
    }
   ],
   "source": [
    "# Removing dollar signs\n",
    "df['Average Annual Salary']= df['Average Annual Salary'].str.replace('$','')\n",
    "df['Average Annual Salary']= df['Average Annual Salary'].str.replace(',','')\n",
    "\n",
    "# Converting into integers\n",
    "df=df.astype(int)\n",
    "\n",
    "# Sorting values\n",
    "df = df.sort_values(\"Average Annual Salary\", axis = 0, ascending = False)\n",
    "df"
   ]
  },
  {
   "cell_type": "markdown",
   "metadata": {
    "id": "1b_PGj4H9iUo"
   },
   "source": [
    "#### Bar chart of annual salaries by popular programming languages"
   ]
  },
  {
   "cell_type": "code",
   "execution_count": 73,
   "metadata": {
    "id": "XMDe16dB9iUo",
    "outputId": "b1f5bb06-2b09-4310-e47b-9ee600ecd99a"
   },
   "outputs": [
    {
     "data": {
      "text/plain": [
       "(array([     0.,  20000.,  40000.,  60000.,  80000., 100000., 120000.,\n",
       "        140000.]),\n",
       " [Text(0, 0, ''),\n",
       "  Text(0, 0, ''),\n",
       "  Text(0, 0, ''),\n",
       "  Text(0, 0, ''),\n",
       "  Text(0, 0, ''),\n",
       "  Text(0, 0, ''),\n",
       "  Text(0, 0, ''),\n",
       "  Text(0, 0, '')])"
      ]
     },
     "execution_count": 73,
     "metadata": {},
     "output_type": "execute_result"
    },
    {
     "data": {
      "image/png": "[encoded data removed]",
      "text/plain": [
       "<Figure size 1440x576 with 1 Axes>"
      ]
     },
     "metadata": {},
     "output_type": "display_data"
    }
   ],
   "source": [
    "df.plot(kind='bar', legend = None, edgecolor='black', linewidth=1, figsize = (20, 8), color = 'steelblue')\n",
    "plt.title('Average Annual Salaries for Popular Programming Languages', fontsize = 18)\n",
    "plt.xlabel('Language', fontsize = 15)\n",
    "plt.ylabel('Average Annual Salary (USD)', fontsize = 15)\n",
    "plt.xticks(fontsize=12)\n",
    "plt.yticks(fontsize=12)"
   ]
  },
  {
   "cell_type": "markdown",
   "metadata": {},
   "source": [
    "## 7. Findings and Implications <a class=\"anchor\" id=\"chapter7\"></a>"
   ]
  },
  {
   "cell_type": "markdown",
   "metadata": {},
   "source": [
    "Taken together, the analysis yielded insights into the following questions:\n",
    "\n",
    "- What kinds of developer technologies are in top demand?\n",
    "- Which technologies should prospective developers and data professionals be learning? \n",
    "- Which technologies should educators place more emphasis on teaching in upcoming years?\n",
    "- What does the distribution of annual compensation for developers look like?\n",
    "- What is the developer demographic like? Is there a gender representation gap? \n"
   ]
  },
  {
   "cell_type": "markdown",
   "metadata": {},
   "source": [
    "The findings and implications are discussed in more depth in a separate powerpoint presentation. To briefly summarize:"
   ]
  },
  {
   "cell_type": "markdown",
   "metadata": {},
   "source": [
    "#### Findings\n",
    "\n"
   ]
  },
  {
   "cell_type": "markdown",
   "metadata": {},
   "source": [
    "- High usage and interest in Javascript and HTML/CSS remain high usage. There’s also increasing interest in Typescript.-\n",
    "- Increasing interest in Python.\n",
    "- High usage and interest in SQL. MySQL had the highest usage in 2019, but PostgreSQL is gaining interest and was the overall most desired database program for the next year\n",
    "- NoSQL database programs gaining interest, of which MongoDB was the most used in 2019 and desired for the next year. \n",
    "- A severe gender representation gap (in favor of men), despite median compensation being slightly higher for women.\n",
    "- Technology divide between countries."
   ]
  },
  {
   "cell_type": "markdown",
   "metadata": {},
   "source": [
    "#### Implications\n",
    "\n",
    "- Web development is still in high demand. Current and prospective developers may consider picking up Typescript in addition to Javascript and HTML/CSS. \n",
    "- With the growing need to handle big data and perform AI and ML work, data professionals should continue to enhance SQL competence but also enhance competence with NoSQL database programs and Python. \n",
    "- Businesses need to adapt to changing technology preferences, especially in terms of talent acquisition and development.    \n",
    "- Policy makers, educators, and organizations should work to minimize the gender representation gap in addition to the technology divide between countries. "
   ]
  },
  {
   "cell_type": "markdown",
   "metadata": {},
   "source": [
    "### Thank you!\n",
    "\n",
    "Created by Young Hun Ji"
   ]
  }
 ],
 "metadata": {
  "colab": {
   "collapsed_sections": [],
   "name": "Developer Technology Usage, Trends, and Demographics",
   "provenance": []
  },
  "kernelspec": {
   "display_name": "Python 3",
   "language": "python",
   "name": "python3"
  },
  "language_info": {
   "codemirror_mode": {
    "name": "ipython",
    "version": 3
   },
   "file_extension": ".py",
   "mimetype": "text/x-python",
   "name": "python",
   "nbconvert_exporter": "python",
   "pygments_lexer": "ipython3",
   "version": "3.8.5"
  }
 },
 "nbformat": 4,
 "nbformat_minor": 4
}
